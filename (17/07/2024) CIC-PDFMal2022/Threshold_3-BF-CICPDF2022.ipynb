{
 "cells": [
  {
   "cell_type": "code",
   "execution_count": 10,
   "id": "ed025ff4-309c-4926-b5c9-725682279014",
   "metadata": {},
   "outputs": [],
   "source": [
    "# Library\n",
    "import pandas as pd\n",
    "import matplotlib.pyplot as plt\n",
    "import os\n",
    "from sklearn.metrics import confusion_matrix\n",
    "import sklearn.metrics as metrics\n",
    "from sklearn.model_selection import cross_val_score\n",
    "import numpy as np\n",
    "from tqdm import tqdm"
   ]
  },
  {
   "cell_type": "code",
   "execution_count": 11,
   "id": "396f8840-3416-48cb-8a12-68b2d5855736",
   "metadata": {},
   "outputs": [],
   "source": [
    "# Input Dataset \n",
    "\n",
    "DM = pd.read_csv(\"C:\\\\Data Raihan\\\\Penelitian Threshold\\\\Dataset\\\\CIC-PDFMal2022\\\\PDFMalware2022.csv\") #DM--> Dataset Malware"
   ]
  },
  {
   "cell_type": "code",
   "execution_count": 12,
   "id": "ff30b1d6-f75b-4dc9-8f3c-a9544371a50f",
   "metadata": {},
   "outputs": [
    {
     "name": "stdout",
     "output_type": "stream",
     "text": [
      "<class 'pandas.core.frame.DataFrame'>\n",
      "RangeIndex: 10026 entries, 0 to 10025\n",
      "Data columns (total 33 columns):\n",
      " #   Column            Non-Null Count  Dtype  \n",
      "---  ------            --------------  -----  \n",
      " 0   Fine name         10026 non-null  object \n",
      " 1   pdfsize           10025 non-null  float64\n",
      " 2   metadata size     10025 non-null  float64\n",
      " 3   pages             10025 non-null  float64\n",
      " 4   xref Length       10025 non-null  float64\n",
      " 5   title characters  10025 non-null  float64\n",
      " 6   isEncrypted       10025 non-null  float64\n",
      " 7   embedded files    10025 non-null  float64\n",
      " 8   images            10025 non-null  object \n",
      " 9   text              10025 non-null  object \n",
      " 10  header            10025 non-null  object \n",
      " 11  obj               10023 non-null  object \n",
      " 12  endobj            10023 non-null  object \n",
      " 13  stream            10023 non-null  float64\n",
      " 14  endstream         10023 non-null  object \n",
      " 15  xref              10023 non-null  object \n",
      " 16  trailer           10023 non-null  float64\n",
      " 17  startxref         10023 non-null  object \n",
      " 18  pageno            10023 non-null  object \n",
      " 19  encrypt           10023 non-null  float64\n",
      " 20  ObjStm            10023 non-null  float64\n",
      " 21  JS                10023 non-null  object \n",
      " 22  Javascript        10023 non-null  object \n",
      " 23  AA                10023 non-null  object \n",
      " 24  OpenAction        10023 non-null  object \n",
      " 25  Acroform          10023 non-null  object \n",
      " 26  JBIG2Decode       10023 non-null  object \n",
      " 27  RichMedia         10023 non-null  object \n",
      " 28  launch            10023 non-null  object \n",
      " 29  EmbeddedFile      10023 non-null  object \n",
      " 30  XFA               10023 non-null  object \n",
      " 31  Colors            10023 non-null  float64\n",
      " 32  Class             10025 non-null  object \n",
      "dtypes: float64(12), object(21)\n",
      "memory usage: 2.5+ MB\n"
     ]
    }
   ],
   "source": [
    "DM.info()"
   ]
  },
  {
   "cell_type": "code",
   "execution_count": 13,
   "id": "9a229129-c47a-40d1-a7e0-7a55bbecb148",
   "metadata": {},
   "outputs": [],
   "source": [
    "#Feature Selection\n",
    "features = DM.drop(['Fine name','images','text','header','obj','endobj','endstream','xref','startxref','pageno','JS','Javascript','AA','OpenAction','Acroform','JBIG2Decode','RichMedia','launch','EmbeddedFile','XFA','Class'],axis=1).columns.tolist()\n",
    "# Target variable\n",
    "y = DM['Class'].values"
   ]
  },
  {
   "cell_type": "code",
   "execution_count": 14,
   "id": "5196a377-052f-4bea-8c43-2d6a7ba1a9f2",
   "metadata": {},
   "outputs": [],
   "source": [
    "# Memilih 5% data secara acak dari setiap fitur/column\n",
    "sampled_data = DM.groupby('Class').apply(lambda x: x.sample(frac=1)).reset_index(drop=True)"
   ]
  },
  {
   "cell_type": "code",
   "execution_count": 15,
   "id": "77acb697-6d53-4375-a397-e4863feb4437",
   "metadata": {},
   "outputs": [
    {
     "name": "stdout",
     "output_type": "stream",
     "text": [
      "  1 pdfsize                                  10025           float64\n",
      "  2 metadata size                            10025           float64\n",
      "  3 pages                                    10025           float64\n",
      "  4 xref Length                              10025           float64\n",
      "  5 title characters                         10025           float64\n",
      "  6 isEncrypted                              10025           float64\n",
      "  7 embedded files                           10025           float64\n",
      "  8 stream                                   10023           float64\n",
      "  9 trailer                                  10023           float64\n",
      " 10 encrypt                                  10023           float64\n",
      " 11 ObjStm                                   10023           float64\n",
      " 12 Colors                                   10023           float64\n"
     ]
    }
   ],
   "source": [
    "for i, column_name in enumerate(features):\n",
    "    print(f\"{i+1:3} {column_name:40} {sampled_data[column_name].count():<15} {sampled_data[column_name].dtype}\")"
   ]
  },
  {
   "cell_type": "code",
   "execution_count": 16,
   "id": "2910228e-aed3-41f4-b2d2-cd0103da955f",
   "metadata": {},
   "outputs": [
    {
     "name": "stderr",
     "output_type": "stream",
     "text": [
      "Progress: 100%|████████████████████████████████████████████████████████████████████| 12/12 [3:34:16<00:00, 1071.34s/it]\n",
      "IOPub data rate exceeded.\n",
      "The Jupyter server will temporarily stop sending output\n",
      "to the client in order to avoid crashing it.\n",
      "To change this limit, set the config variable\n",
      "`--ServerApp.iopub_data_rate_limit`.\n",
      "\n",
      "Current values:\n",
      "ServerApp.iopub_data_rate_limit=1000000.0 (bytes/sec)\n",
      "ServerApp.rate_limit_window=3.0 (secs)\n",
      "\n"
     ]
    }
   ],
   "source": [
    "# Mencoba mencari threshold terbaik pada fitur yang dipilih\n",
    "hasil_threshold = []\n",
    "\n",
    "def Thresholding(threshold, feature):\n",
    "    # Melakukan thresholding\n",
    "    BenignDataThreshold = sampled_data[sampled_data[feature] > int(threshold)]\n",
    "    MalwareDataThreshold = sampled_data[sampled_data[feature] <= int(threshold)]\n",
    "\n",
    "    # menentukan TP, TN, FP, FN\n",
    "    from sklearn.metrics import confusion_matrix\n",
    "\n",
    "    # Untuk BenignDataThreshold\n",
    "    y_true_benign = [\"Benign\"] * len(BenignDataThreshold)\n",
    "    y_pred_benign = BenignDataThreshold[\"Class\"]\n",
    "\n",
    "    # Untuk MalwareDataThreshold\n",
    "    y_true_malware = [\"Malicious\"] * len(MalwareDataThreshold)\n",
    "    y_pred_malware = MalwareDataThreshold[\"Class\"]\n",
    "\n",
    "    # Menyatukan true labels dan predicted labels\n",
    "    y_true = y_true_benign + y_true_malware\n",
    "    y_pred = y_pred_benign.tolist() + y_pred_malware.tolist()\n",
    "\n",
    "    # Menghitung confusion matrix\n",
    "    tn, fp, fn, tp = confusion_matrix(y_true, y_pred).ravel()\n",
    "\n",
    "    # Menghitung Precision, Recall, F1-score, dan Accuracy\n",
    "    PrecisionThreshold = tp/(tp+fp) if (tp+fp) != 0 else 0\n",
    "    RecallThreshold = tp/(tp+fn) if (tp+fn) != 0 else 0\n",
    "    F1ScoreThreshold = 2 * ((PrecisionThreshold*RecallThreshold)/(PrecisionThreshold+RecallThreshold)) if (PrecisionThreshold+RecallThreshold) != 0 else 0\n",
    "    AccuracyThreshold = (tp+tn)/(tp+fp+tn+fn) if (tp+fp+tn+fn) != 0 else 0\n",
    "\n",
    "    matrix = [[feature, threshold], [PrecisionThreshold], [RecallThreshold], [F1ScoreThreshold], [AccuracyThreshold]]\n",
    "    hasil_threshold.append(matrix)\n",
    "\n",
    "for feature in tqdm(features, desc='Progress'):\n",
    "    Max = sampled_data[feature].max()\n",
    "    Min = sampled_data[feature].min()\n",
    "\n",
    "    for x in range(int(Min), int(Max + 1)):\n",
    "        Thresholding(x, feature)\n",
    "\n",
    "print(hasil_threshold)"
   ]
  },
  {
   "cell_type": "code",
   "execution_count": 17,
   "id": "b5fcaa78-223e-473e-95de-2b59f6857c38",
   "metadata": {},
   "outputs": [
    {
     "name": "stdout",
     "output_type": "stream",
     "text": [
      "Dengan fitur metadata size dan threshold 259, menghasilkan akurasi 0.8270324189526185 yang menjadikan angka threshold tersebut adalah threshold terbaik yang dapat digunakan.\n"
     ]
    }
   ],
   "source": [
    "winner = [['', 0], [0], [0], [0], [0]]  # Format: [[feature, threshold], [precision], [recall], [f1-score], [accuracy]]\n",
    "\n",
    "for result in hasil_threshold:\n",
    "    if result[4][0] > winner[4][0]:\n",
    "        winner = result\n",
    "\n",
    "print(f\"Dengan fitur {winner[0][0]} dan threshold {winner[0][1]}, menghasilkan akurasi {winner[4][0]} yang menjadikan angka threshold tersebut adalah threshold terbaik yang dapat digunakan.\")\n"
   ]
  },
  {
   "cell_type": "code",
   "execution_count": 18,
   "id": "9cb377c6-6f86-4fed-842c-18b094dcc1bf",
   "metadata": {},
   "outputs": [
    {
     "data": {
      "image/png": "[encoded data removed]",
      "text/plain": [
       "<Figure size 1000x600 with 1 Axes>"
      ]
     },
     "metadata": {},
     "output_type": "display_data"
    }
   ],
   "source": [
    "# Mendapatkan fitur pemenang dan thresholdnya\n",
    "winner_feature, winner_threshold = winner[0]\n",
    "\n",
    "# Memfilter hasil threshold untuk fitur pemenang\n",
    "winner_results = [result for result in hasil_threshold if result[0][0] == winner_feature]\n",
    "\n",
    "# Pisahkan hasil menjadi list berdasarkan feature dan kolom\n",
    "thresholds, precision, recall, f1_score, accuracy = [], [], [], [], []\n",
    "for result in winner_results:\n",
    "    thresholds.append(result[0][1])\n",
    "    precision.append(result[1][0])\n",
    "    recall.append(result[2][0])\n",
    "    f1_score.append(result[3][0])\n",
    "    accuracy.append(result[4][0])\n",
    "\n",
    "# Plotting\n",
    "plt.figure(figsize=(10, 6))\n",
    "plt.plot(thresholds, accuracy, label='Accuracy')\n",
    "plt.plot(thresholds, precision, label='Precision')\n",
    "plt.plot(thresholds, recall, label='Recall')\n",
    "plt.plot(thresholds, f1_score, label='F1 Score')\n",
    "\n",
    "plt.title(f'Metrics vs. Threshold for Feature {winner_feature}')\n",
    "plt.xlabel('Threshold')\n",
    "plt.ylabel('Score')\n",
    "plt.legend()\n",
    "plt.grid(True)\n",
    "plt.show()"
   ]
  },
  {
   "cell_type": "code",
   "execution_count": null,
   "id": "fb53b7d6-8a37-431d-83cd-7cb4c53a8df7",
   "metadata": {},
   "outputs": [],
   "source": []
  }
 ],
 "metadata": {
  "kernelspec": {
   "display_name": "Python 3 (ipykernel)",
   "language": "python",
   "name": "python3"
  },
  "language_info": {
   "codemirror_mode": {
    "name": "ipython",
    "version": 3
   },
   "file_extension": ".py",
   "mimetype": "text/x-python",
   "name": "python",
   "nbconvert_exporter": "python",
   "pygments_lexer": "ipython3",
   "version": "3.11.2"
  }
 },
 "nbformat": 4,
 "nbformat_minor": 5
}
