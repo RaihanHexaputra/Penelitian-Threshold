{
 "cells": [
  {
   "cell_type": "code",
   "execution_count": 1,
   "id": "674d68be-dee1-4910-a28e-f08a102316c8",
   "metadata": {},
   "outputs": [],
   "source": [
    "# Library\n",
    "import pandas as pd\n",
    "import matplotlib.pyplot as plt\n",
    "import os\n",
    "import numpy\n",
    "import pickle\n",
    "import pefile\n",
    "import sklearn.ensemble as ek\n",
    "from sklearn.feature_selection import SelectFromModel\n",
    "import joblib\n",
    "from sklearn.metrics import confusion_matrix\n",
    "import sklearn.metrics as metrics\n",
    "from sklearn.model_selection import cross_val_score\n",
    "import numpy as np\n",
    "from tqdm import tqdm\n",
    "import threading\n",
    "from sklearn.preprocessing import MinMaxScaler, LabelEncoder\n",
    "from sklearn.svm import SVR\n",
    "from sklearn.feature_selection import SequentialFeatureSelector\n",
    "import time"
   ]
  },
  {
   "cell_type": "code",
   "execution_count": 2,
   "id": "103abc4c-1b2e-4ca0-82e5-0b66b34b6afa",
   "metadata": {},
   "outputs": [],
   "source": [
    "# Input Dataset \n",
    "\n",
    "DM = pd.read_csv(\"C:\\\\Data Raihan\\\\Penelitian Threshold\\\\Dataset\\\\Obfuscated-MalMem2022\\\\Obfuscated-MalMem2022.csv\") #DM--> Dataset Malware"
   ]
  },
  {
   "cell_type": "code",
   "execution_count": 3,
   "id": "11b14026-c76d-4c99-8f2a-723225d2df76",
   "metadata": {},
   "outputs": [
    {
     "name": "stdout",
     "output_type": "stream",
     "text": [
      "<class 'pandas.core.frame.DataFrame'>\n",
      "RangeIndex: 58596 entries, 0 to 58595\n",
      "Data columns (total 57 columns):\n",
      " #   Column                                  Non-Null Count  Dtype  \n",
      "---  ------                                  --------------  -----  \n",
      " 0   Category                                58596 non-null  object \n",
      " 1   pslist.nproc                            58596 non-null  int64  \n",
      " 2   pslist.nppid                            58596 non-null  int64  \n",
      " 3   pslist.avg_threads                      58596 non-null  float64\n",
      " 4   pslist.nprocs64bit                      58596 non-null  int64  \n",
      " 5   pslist.avg_handlers                     58596 non-null  float64\n",
      " 6   dlllist.ndlls                           58596 non-null  int64  \n",
      " 7   dlllist.avg_dlls_per_proc               58596 non-null  float64\n",
      " 8   handles.nhandles                        58596 non-null  int64  \n",
      " 9   handles.avg_handles_per_proc            58596 non-null  float64\n",
      " 10  handles.nport                           58596 non-null  int64  \n",
      " 11  handles.nfile                           58596 non-null  int64  \n",
      " 12  handles.nevent                          58596 non-null  int64  \n",
      " 13  handles.ndesktop                        58596 non-null  int64  \n",
      " 14  handles.nkey                            58596 non-null  int64  \n",
      " 15  handles.nthread                         58596 non-null  int64  \n",
      " 16  handles.ndirectory                      58596 non-null  int64  \n",
      " 17  handles.nsemaphore                      58596 non-null  int64  \n",
      " 18  handles.ntimer                          58596 non-null  int64  \n",
      " 19  handles.nsection                        58596 non-null  int64  \n",
      " 20  handles.nmutant                         58596 non-null  int64  \n",
      " 21  ldrmodules.not_in_load                  58596 non-null  int64  \n",
      " 22  ldrmodules.not_in_init                  58596 non-null  int64  \n",
      " 23  ldrmodules.not_in_mem                   58596 non-null  int64  \n",
      " 24  ldrmodules.not_in_load_avg              58596 non-null  float64\n",
      " 25  ldrmodules.not_in_init_avg              58596 non-null  float64\n",
      " 26  ldrmodules.not_in_mem_avg               58596 non-null  float64\n",
      " 27  malfind.ninjections                     58596 non-null  int64  \n",
      " 28  malfind.commitCharge                    58596 non-null  int64  \n",
      " 29  malfind.protection                      58596 non-null  int64  \n",
      " 30  malfind.uniqueInjections                58596 non-null  float64\n",
      " 31  psxview.not_in_pslist                   58596 non-null  int64  \n",
      " 32  psxview.not_in_eprocess_pool            58596 non-null  int64  \n",
      " 33  psxview.not_in_ethread_pool             58596 non-null  int64  \n",
      " 34  psxview.not_in_pspcid_list              58596 non-null  int64  \n",
      " 35  psxview.not_in_csrss_handles            58596 non-null  int64  \n",
      " 36  psxview.not_in_session                  58596 non-null  int64  \n",
      " 37  psxview.not_in_deskthrd                 58596 non-null  int64  \n",
      " 38  psxview.not_in_pslist_false_avg         58596 non-null  float64\n",
      " 39  psxview.not_in_eprocess_pool_false_avg  58596 non-null  float64\n",
      " 40  psxview.not_in_ethread_pool_false_avg   58596 non-null  float64\n",
      " 41  psxview.not_in_pspcid_list_false_avg    58596 non-null  float64\n",
      " 42  psxview.not_in_csrss_handles_false_avg  58596 non-null  float64\n",
      " 43  psxview.not_in_session_false_avg        58596 non-null  float64\n",
      " 44  psxview.not_in_deskthrd_false_avg       58596 non-null  float64\n",
      " 45  modules.nmodules                        58596 non-null  int64  \n",
      " 46  svcscan.nservices                       58596 non-null  int64  \n",
      " 47  svcscan.kernel_drivers                  58596 non-null  int64  \n",
      " 48  svcscan.fs_drivers                      58596 non-null  int64  \n",
      " 49  svcscan.process_services                58596 non-null  int64  \n",
      " 50  svcscan.shared_process_services         58596 non-null  int64  \n",
      " 51  svcscan.interactive_process_services    58596 non-null  int64  \n",
      " 52  svcscan.nactive                         58596 non-null  int64  \n",
      " 53  callbacks.ncallbacks                    58596 non-null  int64  \n",
      " 54  callbacks.nanonymous                    58596 non-null  int64  \n",
      " 55  callbacks.ngeneric                      58596 non-null  int64  \n",
      " 56  Class                                   58596 non-null  object \n",
      "dtypes: float64(15), int64(40), object(2)\n",
      "memory usage: 25.5+ MB\n"
     ]
    }
   ],
   "source": [
    "DM.info()"
   ]
  },
  {
   "cell_type": "code",
   "execution_count": 4,
   "id": "6dcbc54b-758f-4b1f-999c-71e61b807d47",
   "metadata": {},
   "outputs": [],
   "source": [
    "#Feature Selection\n",
    "features_to_drop = ['Category', 'Class']\n",
    "\n",
    "# Droping specified columns and target variable\n",
    "X = DM.drop(features_to_drop, axis=1).values    \n",
    "y = DM['Class'].values"
   ]
  },
  {
   "cell_type": "code",
   "execution_count": 5,
   "id": "41bd6d6c-c0ef-470b-9c61-cf4044411438",
   "metadata": {},
   "outputs": [],
   "source": [
    "#Remove Nan\n",
    "X = pd.DataFrame(X).dropna()\n",
    "y = y[X.index]"
   ]
  },
  {
   "cell_type": "code",
   "execution_count": 6,
   "id": "2f8f7589-ddf7-41a4-aaa7-436e367e5f6c",
   "metadata": {},
   "outputs": [],
   "source": [
    "# Applying Min-Max scaling to make X non-negative\n",
    "scaler = MinMaxScaler()\n",
    "X_scaled = scaler.fit_transform(X)"
   ]
  },
  {
   "cell_type": "code",
   "execution_count": 7,
   "id": "c355a696-fe69-43fd-8957-c3fd27306a68",
   "metadata": {},
   "outputs": [],
   "source": [
    "# Encode the target variable (if still contains string values)\n",
    "label_encoder = LabelEncoder()\n",
    "y_encoded = label_encoder.fit_transform(y)"
   ]
  },
  {
   "cell_type": "code",
   "execution_count": null,
   "id": "ba75d9b8-e9cf-428b-bee5-0f0eb118955d",
   "metadata": {},
   "outputs": [],
   "source": [
    "# Sequential Feature Selector\n",
    "sfs_selector = SequentialFeatureSelector(estimator=SVR(kernel=\"linear\"), n_features_to_select=5)\n",
    "X_sfs = sfs_selector.fit_transform(X_scaled, y_encoded)"
   ]
  },
  {
   "cell_type": "code",
   "execution_count": null,
   "id": "1aa8ad04-c8ca-43d2-95fc-f272b05e0a4b",
   "metadata": {},
   "outputs": [],
   "source": [
    "# Get top features selected by SFS\n",
    "sfs_top_features = np.where(sfs_selector.get_support())[0]\n",
    "\n",
    "# Get names of selected features\n",
    "filtered_columns = DM.drop(features_to_drop, axis=1).columns\n",
    "features = filtered_columns[sfs_top_features]\n",
    "\n",
    "print(\"Selected features using Sequential Feature Selector:\")\n",
    "for feature in features:\n",
    "    print(feature)"
   ]
  },
  {
   "cell_type": "code",
   "execution_count": null,
   "id": "cbdd0877-c2ba-4c27-a531-0e69ba6823e9",
   "metadata": {},
   "outputs": [],
   "source": [
    "# Memilih 100% data secara acak dari setiap fitur/column\n",
    "sampled_data = DM.groupby('Class').apply(lambda x: x.sample(frac=1)).reset_index(drop=True)\n",
    "hasil_threshold = []"
   ]
  },
  {
   "cell_type": "code",
   "execution_count": null,
   "id": "ea493867-1977-4f6e-8e0b-416780bb2624",
   "metadata": {},
   "outputs": [],
   "source": [
    "def Thresholding(threshold, feature):\n",
    "    # Mengukur waktu mulai\n",
    "    start_time = time.time()\n",
    "\n",
    "    # Melakukan thresholding\n",
    "    BenignDataThreshold = sampled_data[sampled_data[feature] > int(threshold)]\n",
    "    MalwareDataThreshold = sampled_data[sampled_data[feature] <= int(threshold)]\n",
    "\n",
    "    # Untuk BenignDataThreshold\n",
    "    y_true_benign = [\"Benign\"] * len(BenignDataThreshold)\n",
    "    y_pred_benign = BenignDataThreshold[\"Class\"]\n",
    "\n",
    "    # Untuk MalwareDataThreshold\n",
    "    y_true_malware = [\"Malware\"] * len(MalwareDataThreshold)\n",
    "    y_pred_malware = MalwareDataThreshold[\"Class\"]\n",
    "\n",
    "    # Menyatukan true labels dan predicted labels\n",
    "    y_true = y_true_benign + y_true_malware\n",
    "    y_pred = y_pred_benign.tolist() + y_pred_malware.tolist()\n",
    "\n",
    "    # Menghitung confusion matrix\n",
    "    tn, fp, fn, tp = confusion_matrix(y_true, y_pred).ravel()\n",
    "\n",
    "    # Menghitung Precision, Recall, F1-score, dan Accuracy\n",
    "    PrecisionThreshold = tp / (tp + fp) if (tp + fp) != 0 else 0\n",
    "    RecallThreshold = tp / (tp + fn) if (tp + fn) != 0 else 0\n",
    "    F1ScoreThreshold = 2 * ((PrecisionThreshold * RecallThreshold) / (PrecisionThreshold + RecallThreshold)) if (PrecisionThreshold + RecallThreshold) != 0 else 0\n",
    "    AccuracyThreshold = (tp + tn) / (tp + fp + tn + fn) if (tp + fp + tn + fn) != 0 else 0\n",
    "\n",
    "    # Mengukur waktu selesai\n",
    "    elapsed_time = time.time() - start_time\n",
    "\n",
    "    # Menyimpan hasil dalam format satu baris untuk setiap threshold\n",
    "    hasil_threshold.append([feature, threshold, PrecisionThreshold, RecallThreshold, F1ScoreThreshold, AccuracyThreshold, elapsed_time])\n",
    "\n",
    "# Lakukan thresholding pada fitur yang dipilih oleh Chi-Square Test\n",
    "for feature in tqdm(features, desc='Progress'):\n",
    "    # Pastikan bahwa Min dan Max adalah nilai numerik\n",
    "    Max = pd.to_numeric(sampled_data[feature], errors='coerce').max()\n",
    "    Min = pd.to_numeric(sampled_data[feature], errors='coerce').min()\n",
    "\n",
    "    # Cek apakah Min dan Max valid (bukan NaN)\n",
    "    if pd.notna(Min) and pd.notna(Max):\n",
    "        for x in range(int(Min), int(Max + 1)):\n",
    "            Thresholding(x, feature)\n",
    "    else:\n",
    "        print(f\"Fitur {feature} mengandung nilai non-numerik dan tidak dapat diproses.\")\n",
    "\n",
    "print(hasil_threshold)\n",
    "\n",
    "# Mengubah hasil menjadi DataFrame dengan kolom yang sesuai\n",
    "hasil_threshold_df = pd.DataFrame(hasil_threshold, columns=['Feature', 'Threshold', 'Precision', 'Recall', 'F1_Score', 'Accuracy', 'Elapsed_Time'])\n",
    "\n",
    "# Simpan DataFrame ke CSV\n",
    "hasil_threshold_df.to_csv('Sequential Feature Selector.csv', index=False)\n",
    "\n",
    "print(\"Hasil threshold disimpan ke dalam file 'Sequential Feature Selector.csv'\")"
   ]
  },
  {
   "cell_type": "code",
   "execution_count": null,
   "id": "223285de-4628-47b5-b69c-8f16a4845c3d",
   "metadata": {},
   "outputs": [],
   "source": [
    "HasilThreshold = pd.read_csv(\"C:\\\\Data Raihan\\\\Penelitian Threshold\\\\02-10-2024\\\\Sequential Feature Selector.csv\")\n",
    "HasilThreshold.info()"
   ]
  },
  {
   "cell_type": "code",
   "execution_count": null,
   "id": "67507889-1d5f-4213-aa70-6cb3a9ae1e4c",
   "metadata": {},
   "outputs": [],
   "source": [
    "# Inisialisasi variabel winner untuk masing-masing metrik\n",
    "winner_precision = ['', '', 0]  # [feature, threshold, value]\n",
    "winner_recall = ['', '', 0]\n",
    "winner_f1_score = ['', '', 0]\n",
    "winner_accuracy = ['', '', 0]\n",
    "winner_run_time = ['', '', float('inf')]  # Memilih yang terendah, jadi diinisialisasi dengan tak hingga\n",
    "\n",
    "# Iterasi melalui setiap baris di HasilThreshold\n",
    "for index, result in HasilThreshold.iterrows():\n",
    "    # result['Feature'], result['Threshold'], result['Precision'], \n",
    "    # result['Recall'], result['F1_Score'], result['Accuracy'],\n",
    "    # result['Elapsed_Time']\n",
    "    \n",
    "    # Membandingkan Precision\n",
    "    if result['Precision'] > winner_precision[2]:  # result['Precision']\n",
    "        winner_precision = [result['Feature'], result['Threshold'], result['Precision']]  # [feature, threshold, Precision]\n",
    "    \n",
    "    # Membandingkan Recall\n",
    "    if result['Recall'] > winner_recall[2]:  # result['Recall']\n",
    "        winner_recall = [result['Feature'], result['Threshold'], result['Recall']]  # [feature, threshold, Recall]\n",
    "\n",
    "    # Membandingkan F1-score\n",
    "    if result['F1_Score'] > winner_f1_score[2]:  # result['F1_Score']\n",
    "        winner_f1_score = [result['Feature'], result['Threshold'], result['F1_Score']]  # [feature, threshold, F1 Score]\n",
    "\n",
    "    # Membandingkan Accuracy\n",
    "    if result['Accuracy'] > winner_accuracy[2]:  # result['Accuracy']\n",
    "        winner_accuracy = [result['Feature'], result['Threshold'], result['Accuracy']]  # [feature, threshold, Accuracy]\n",
    "\n",
    "    # Membandingkan waktu running (run_time) untuk threshold tercepat (terkecil)\n",
    "    if result['Elapsed_Time'] < winner_run_time[2]:  # result['Elapsed_Time']\n",
    "        winner_run_time = [result['Feature'], result['Threshold'], result['Elapsed_Time']]  # [feature, threshold, elapsed_time]"
   ]
  },
  {
   "cell_type": "code",
   "execution_count": null,
   "id": "753fbf93-ca4b-4d47-9227-64636f0713d5",
   "metadata": {},
   "outputs": [],
   "source": [
    "def plot_metrics_for_winner(winner, metric_name):\n",
    "    winner_feature, winner_threshold = winner[0], winner[1]\n",
    "\n",
    "    # Memfilter hasil threshold untuk fitur pemenang\n",
    "    winner_results = HasilThreshold[HasilThreshold['Feature'] == winner_feature]\n",
    "\n",
    "    # Pisahkan hasil menjadi list berdasarkan threshold dan kolom metrik\n",
    "    thresholds = winner_results['Threshold'].tolist()  # Threshold\n",
    "    precision = winner_results['Precision'].tolist()   # Precision\n",
    "    recall = winner_results['Recall'].tolist()         # Recall\n",
    "    f1_score = winner_results['F1_Score'].tolist()     # F1 Score\n",
    "    accuracy = winner_results['Accuracy'].tolist()      # Accuracy\n",
    "\n",
    "    # Plotting\n",
    "    plt.figure(figsize=(10, 6))\n",
    "    plt.plot(thresholds, accuracy, label='Accuracy', marker='o')\n",
    "    plt.plot(thresholds, precision, label='Precision', marker='o')\n",
    "    plt.plot(thresholds, recall, label='Recall', marker='o')\n",
    "    plt.plot(thresholds, f1_score, label='F1 Score', marker='o')\n",
    "\n",
    "    plt.title(f'{metric_name} Winner: Metrics vs. Threshold for Feature {winner_feature}')\n",
    "    plt.xlabel('Threshold')\n",
    "    plt.ylabel('Score')\n",
    "    plt.legend()\n",
    "    plt.grid(True)\n",
    "    plt.show()"
   ]
  },
  {
   "cell_type": "code",
   "execution_count": null,
   "id": "0fa9f1a3-6e32-411e-841a-d9f0871f60c4",
   "metadata": {},
   "outputs": [],
   "source": [
    "def plot_runtime_for_winner(winner):\n",
    "    winner_feature, winner_threshold = winner[0], winner[1]\n",
    "\n",
    "    # Memfilter hasil threshold untuk fitur pemenang\n",
    "    winner_results = HasilThreshold[HasilThreshold['Feature'] == winner_feature]\n",
    "\n",
    "    # Pisahkan hasil menjadi list berdasarkan threshold dan run_time\n",
    "    thresholds = winner_results['Threshold'].tolist()    # Threshold\n",
    "    run_time = winner_results['Elapsed_Time'].tolist()   # Run Time (elapsed_time)\n",
    "\n",
    "    # Plotting\n",
    "    plt.figure(figsize=(10, 6))\n",
    "    plt.plot(thresholds, run_time, label='Run Time', marker='o')\n",
    "\n",
    "    plt.title(f'Run Time Winner: Run Time vs. Threshold for Feature {winner_feature}')\n",
    "    plt.xlabel('Threshold')\n",
    "    plt.ylabel('Run Time (seconds)')\n",
    "    plt.legend()\n",
    "    plt.grid(True)\n",
    "    plt.show()"
   ]
  },
  {
   "cell_type": "code",
   "execution_count": null,
   "id": "b6887f5a-10f7-4e03-a1c0-e7bd3c11fd31",
   "metadata": {},
   "outputs": [],
   "source": [
    "# Plot untuk Accuracy Winner\n",
    "plot_metrics_for_winner(winner_accuracy, 'Accuracy')"
   ]
  },
  {
   "cell_type": "code",
   "execution_count": null,
   "id": "0649f850-0fc7-47d8-85bb-84354dcdef70",
   "metadata": {},
   "outputs": [],
   "source": [
    "# Plot untuk Precision Winner\n",
    "plot_metrics_for_winner(winner_precision, 'Precision')"
   ]
  },
  {
   "cell_type": "code",
   "execution_count": null,
   "id": "2adbbe1e-697a-4980-8ac0-4c0198279995",
   "metadata": {},
   "outputs": [],
   "source": [
    "# Plot untuk Recall Winner\n",
    "plot_metrics_for_winner(winner_recall, 'Recall')"
   ]
  },
  {
   "cell_type": "code",
   "execution_count": null,
   "id": "755829db-2332-41ac-a202-f569f9d624e1",
   "metadata": {},
   "outputs": [],
   "source": [
    "# Plot untuk F1-Score Winner\n",
    "plot_metrics_for_winner(winner_f1_score, 'F1 Score')"
   ]
  },
  {
   "cell_type": "code",
   "execution_count": null,
   "id": "f58b3ba2-0b58-4218-aeaf-66447b8618d4",
   "metadata": {},
   "outputs": [],
   "source": [
    "# Plot untuk Run Time Winner\n",
    "plot_runtime_for_winner(winner_run_time)"
   ]
  },
  {
   "cell_type": "code",
   "execution_count": null,
   "id": "1ce8b07b-7ded-4a43-b4c3-0d4883b484e2",
   "metadata": {},
   "outputs": [],
   "source": [
    "# Output untuk setiap metrik\n",
    "print(f\"Precision terbaik dicapai dengan fitur {winner_precision[0]} dan threshold {winner_precision[1]}, menghasilkan precision {winner_precision[2]}.\")\n",
    "print(f\"Recall terbaik dicapai dengan fitur {winner_recall[0]} dan threshold {winner_recall[1]}, menghasilkan recall {winner_recall[2]}.\")\n",
    "print(f\"F1-score terbaik dicapai dengan fitur {winner_f1_score[0]} dan threshold {winner_f1_score[1]}, menghasilkan F1-score {winner_f1_score[2]}.\")\n",
    "print(f\"Akurasi terbaik dicapai dengan fitur {winner_accuracy[0]} dan threshold {winner_accuracy[1]}, menghasilkan akurasi {winner_accuracy[2]}.\")\n",
    "print(f\"Waktu running tercepat dicapai dengan fitur {winner_run_time[0]} dan threshold {winner_run_time[1]}, dengan waktu running {winner_run_time[2]} detik.\")"
   ]
  },
  {
   "cell_type": "code",
   "execution_count": null,
   "id": "c19c643a-4213-435e-ab40-0d4f86031267",
   "metadata": {},
   "outputs": [],
   "source": []
  }
 ],
 "metadata": {
  "kernelspec": {
   "display_name": "Python 3 (ipykernel)",
   "language": "python",
   "name": "python3"
  },
  "language_info": {
   "codemirror_mode": {
    "name": "ipython",
    "version": 3
   },
   "file_extension": ".py",
   "mimetype": "text/x-python",
   "name": "python",
   "nbconvert_exporter": "python",
   "pygments_lexer": "ipython3",
   "version": "3.11.2"
  }
 },
 "nbformat": 4,
 "nbformat_minor": 5
}
