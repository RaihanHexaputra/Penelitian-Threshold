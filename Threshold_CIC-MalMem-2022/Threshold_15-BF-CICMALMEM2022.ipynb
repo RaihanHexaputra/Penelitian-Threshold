{
 "cells": [
  {
   "cell_type": "code",
   "execution_count": 1,
   "id": "ed025ff4-309c-4926-b5c9-725682279014",
   "metadata": {},
   "outputs": [],
   "source": [
    "# Library\n",
    "import pandas as pd\n",
    "import matplotlib.pyplot as plt\n",
    "import os\n",
    "from sklearn.metrics import confusion_matrix\n",
    "import sklearn.metrics as metrics\n",
    "from sklearn.model_selection import cross_val_score\n",
    "import numpy as np\n",
    "from tqdm import tqdm\n",
    "import time"
   ]
  },
  {
   "cell_type": "code",
   "execution_count": 2,
   "id": "396f8840-3416-48cb-8a12-68b2d5855736",
   "metadata": {},
   "outputs": [],
   "source": [
    "# Input Dataset \n",
    "\n",
    "DM = pd.read_csv(\"C:\\\\Data Raihan\\\\Penelitian Threshold\\\\Dataset\\\\Obfuscated-MalMem2022\\\\Obfuscated-MalMem2022.csv\") #DM--> Dataset Malware"
   ]
  },
  {
   "cell_type": "code",
   "execution_count": 3,
   "id": "ff30b1d6-f75b-4dc9-8f3c-a9544371a50f",
   "metadata": {},
   "outputs": [
    {
     "name": "stdout",
     "output_type": "stream",
     "text": [
      "<class 'pandas.core.frame.DataFrame'>\n",
      "RangeIndex: 58596 entries, 0 to 58595\n",
      "Data columns (total 57 columns):\n",
      " #   Column                                  Non-Null Count  Dtype  \n",
      "---  ------                                  --------------  -----  \n",
      " 0   Category                                58596 non-null  object \n",
      " 1   pslist.nproc                            58596 non-null  int64  \n",
      " 2   pslist.nppid                            58596 non-null  int64  \n",
      " 3   pslist.avg_threads                      58596 non-null  float64\n",
      " 4   pslist.nprocs64bit                      58596 non-null  int64  \n",
      " 5   pslist.avg_handlers                     58596 non-null  float64\n",
      " 6   dlllist.ndlls                           58596 non-null  int64  \n",
      " 7   dlllist.avg_dlls_per_proc               58596 non-null  float64\n",
      " 8   handles.nhandles                        58596 non-null  int64  \n",
      " 9   handles.avg_handles_per_proc            58596 non-null  float64\n",
      " 10  handles.nport                           58596 non-null  int64  \n",
      " 11  handles.nfile                           58596 non-null  int64  \n",
      " 12  handles.nevent                          58596 non-null  int64  \n",
      " 13  handles.ndesktop                        58596 non-null  int64  \n",
      " 14  handles.nkey                            58596 non-null  int64  \n",
      " 15  handles.nthread                         58596 non-null  int64  \n",
      " 16  handles.ndirectory                      58596 non-null  int64  \n",
      " 17  handles.nsemaphore                      58596 non-null  int64  \n",
      " 18  handles.ntimer                          58596 non-null  int64  \n",
      " 19  handles.nsection                        58596 non-null  int64  \n",
      " 20  handles.nmutant                         58596 non-null  int64  \n",
      " 21  ldrmodules.not_in_load                  58596 non-null  int64  \n",
      " 22  ldrmodules.not_in_init                  58596 non-null  int64  \n",
      " 23  ldrmodules.not_in_mem                   58596 non-null  int64  \n",
      " 24  ldrmodules.not_in_load_avg              58596 non-null  float64\n",
      " 25  ldrmodules.not_in_init_avg              58596 non-null  float64\n",
      " 26  ldrmodules.not_in_mem_avg               58596 non-null  float64\n",
      " 27  malfind.ninjections                     58596 non-null  int64  \n",
      " 28  malfind.commitCharge                    58596 non-null  int64  \n",
      " 29  malfind.protection                      58596 non-null  int64  \n",
      " 30  malfind.uniqueInjections                58596 non-null  float64\n",
      " 31  psxview.not_in_pslist                   58596 non-null  int64  \n",
      " 32  psxview.not_in_eprocess_pool            58596 non-null  int64  \n",
      " 33  psxview.not_in_ethread_pool             58596 non-null  int64  \n",
      " 34  psxview.not_in_pspcid_list              58596 non-null  int64  \n",
      " 35  psxview.not_in_csrss_handles            58596 non-null  int64  \n",
      " 36  psxview.not_in_session                  58596 non-null  int64  \n",
      " 37  psxview.not_in_deskthrd                 58596 non-null  int64  \n",
      " 38  psxview.not_in_pslist_false_avg         58596 non-null  float64\n",
      " 39  psxview.not_in_eprocess_pool_false_avg  58596 non-null  float64\n",
      " 40  psxview.not_in_ethread_pool_false_avg   58596 non-null  float64\n",
      " 41  psxview.not_in_pspcid_list_false_avg    58596 non-null  float64\n",
      " 42  psxview.not_in_csrss_handles_false_avg  58596 non-null  float64\n",
      " 43  psxview.not_in_session_false_avg        58596 non-null  float64\n",
      " 44  psxview.not_in_deskthrd_false_avg       58596 non-null  float64\n",
      " 45  modules.nmodules                        58596 non-null  int64  \n",
      " 46  svcscan.nservices                       58596 non-null  int64  \n",
      " 47  svcscan.kernel_drivers                  58596 non-null  int64  \n",
      " 48  svcscan.fs_drivers                      58596 non-null  int64  \n",
      " 49  svcscan.process_services                58596 non-null  int64  \n",
      " 50  svcscan.shared_process_services         58596 non-null  int64  \n",
      " 51  svcscan.interactive_process_services    58596 non-null  int64  \n",
      " 52  svcscan.nactive                         58596 non-null  int64  \n",
      " 53  callbacks.ncallbacks                    58596 non-null  int64  \n",
      " 54  callbacks.nanonymous                    58596 non-null  int64  \n",
      " 55  callbacks.ngeneric                      58596 non-null  int64  \n",
      " 56  Class                                   58596 non-null  object \n",
      "dtypes: float64(15), int64(40), object(2)\n",
      "memory usage: 25.5+ MB\n"
     ]
    }
   ],
   "source": [
    "DM.info()"
   ]
  },
  {
   "cell_type": "code",
   "execution_count": 4,
   "id": "9a229129-c47a-40d1-a7e0-7a55bbecb148",
   "metadata": {},
   "outputs": [],
   "source": [
    "#Feature Selection\n",
    "features = DM.drop(['Category','Class'],axis=1).columns.tolist()\n",
    "# Target variable\n",
    "y = DM['Class'].values"
   ]
  },
  {
   "cell_type": "code",
   "execution_count": 5,
   "id": "5196a377-052f-4bea-8c43-2d6a7ba1a9f2",
   "metadata": {},
   "outputs": [],
   "source": [
    "# Memilih 100% data secara acak dari setiap fitur/column\n",
    "sampled_data = DM.groupby('Class').apply(lambda x: x.sample(frac=1)).reset_index(drop=True)\n",
    "hasil_threshold = []"
   ]
  },
  {
   "cell_type": "code",
   "execution_count": 6,
   "id": "77acb697-6d53-4375-a397-e4863feb4437",
   "metadata": {},
   "outputs": [
    {
     "name": "stdout",
     "output_type": "stream",
     "text": [
      "  1 pslist.nproc                             58596           int64\n",
      "  2 pslist.nppid                             58596           int64\n",
      "  3 pslist.avg_threads                       58596           float64\n",
      "  4 pslist.nprocs64bit                       58596           int64\n",
      "  5 pslist.avg_handlers                      58596           float64\n",
      "  6 dlllist.ndlls                            58596           int64\n",
      "  7 dlllist.avg_dlls_per_proc                58596           float64\n",
      "  8 handles.nhandles                         58596           int64\n",
      "  9 handles.avg_handles_per_proc             58596           float64\n",
      " 10 handles.nport                            58596           int64\n",
      " 11 handles.nfile                            58596           int64\n",
      " 12 handles.nevent                           58596           int64\n",
      " 13 handles.ndesktop                         58596           int64\n",
      " 14 handles.nkey                             58596           int64\n",
      " 15 handles.nthread                          58596           int64\n",
      " 16 handles.ndirectory                       58596           int64\n",
      " 17 handles.nsemaphore                       58596           int64\n",
      " 18 handles.ntimer                           58596           int64\n",
      " 19 handles.nsection                         58596           int64\n",
      " 20 handles.nmutant                          58596           int64\n",
      " 21 ldrmodules.not_in_load                   58596           int64\n",
      " 22 ldrmodules.not_in_init                   58596           int64\n",
      " 23 ldrmodules.not_in_mem                    58596           int64\n",
      " 24 ldrmodules.not_in_load_avg               58596           float64\n",
      " 25 ldrmodules.not_in_init_avg               58596           float64\n",
      " 26 ldrmodules.not_in_mem_avg                58596           float64\n",
      " 27 malfind.ninjections                      58596           int64\n",
      " 28 malfind.commitCharge                     58596           int64\n",
      " 29 malfind.protection                       58596           int64\n",
      " 30 malfind.uniqueInjections                 58596           float64\n",
      " 31 psxview.not_in_pslist                    58596           int64\n",
      " 32 psxview.not_in_eprocess_pool             58596           int64\n",
      " 33 psxview.not_in_ethread_pool              58596           int64\n",
      " 34 psxview.not_in_pspcid_list               58596           int64\n",
      " 35 psxview.not_in_csrss_handles             58596           int64\n",
      " 36 psxview.not_in_session                   58596           int64\n",
      " 37 psxview.not_in_deskthrd                  58596           int64\n",
      " 38 psxview.not_in_pslist_false_avg          58596           float64\n",
      " 39 psxview.not_in_eprocess_pool_false_avg   58596           float64\n",
      " 40 psxview.not_in_ethread_pool_false_avg    58596           float64\n",
      " 41 psxview.not_in_pspcid_list_false_avg     58596           float64\n",
      " 42 psxview.not_in_csrss_handles_false_avg   58596           float64\n",
      " 43 psxview.not_in_session_false_avg         58596           float64\n",
      " 44 psxview.not_in_deskthrd_false_avg        58596           float64\n",
      " 45 modules.nmodules                         58596           int64\n",
      " 46 svcscan.nservices                        58596           int64\n",
      " 47 svcscan.kernel_drivers                   58596           int64\n",
      " 48 svcscan.fs_drivers                       58596           int64\n",
      " 49 svcscan.process_services                 58596           int64\n",
      " 50 svcscan.shared_process_services          58596           int64\n",
      " 51 svcscan.interactive_process_services     58596           int64\n",
      " 52 svcscan.nactive                          58596           int64\n",
      " 53 callbacks.ncallbacks                     58596           int64\n",
      " 54 callbacks.nanonymous                     58596           int64\n",
      " 55 callbacks.ngeneric                       58596           int64\n"
     ]
    }
   ],
   "source": [
    "for i, column_name in enumerate(features):\n",
    "    print(f\"{i+1:3} {column_name:40} {sampled_data[column_name].count():<15} {sampled_data[column_name].dtype}\")"
   ]
  },
  {
   "cell_type": "code",
   "execution_count": null,
   "id": "2910228e-aed3-41f4-b2d2-cd0103da955f",
   "metadata": {},
   "outputs": [
    {
     "name": "stderr",
     "output_type": "stream",
     "text": [
      "Progress:  13%|████████▋                                                           | 7/55 [1:09:13<9:13:25, 691.79s/it]"
     ]
    }
   ],
   "source": [
    "def Thresholding(threshold, feature):\n",
    "    # Mengukur waktu mulai\n",
    "    start_time = time.time()\n",
    "\n",
    "    # Melakukan thresholding\n",
    "    BenignDataThreshold = sampled_data[sampled_data[feature] > int(threshold)]\n",
    "    MalwareDataThreshold = sampled_data[sampled_data[feature] <= int(threshold)]\n",
    "\n",
    "    # Untuk BenignDataThreshold\n",
    "    y_true_benign = [\"Benign\"] * len(BenignDataThreshold)\n",
    "    y_pred_benign = BenignDataThreshold[\"Class\"]\n",
    "\n",
    "    # Untuk MalwareDataThreshold\n",
    "    y_true_malware = [\"Malware\"] * len(MalwareDataThreshold)\n",
    "    y_pred_malware = MalwareDataThreshold[\"Class\"]\n",
    "\n",
    "    # Menyatukan true labels dan predicted labels\n",
    "    y_true = y_true_benign + y_true_malware\n",
    "    y_pred = y_pred_benign.tolist() + y_pred_malware.tolist()\n",
    "\n",
    "    # Menghitung confusion matrix\n",
    "    tn, fp, fn, tp = confusion_matrix(y_true, y_pred).ravel()\n",
    "\n",
    "    # Menghitung Precision, Recall, F1-score, dan Accuracy\n",
    "    PrecisionThreshold = tp / (tp + fp) if (tp + fp) != 0 else 0\n",
    "    RecallThreshold = tp / (tp + fn) if (tp + fn) != 0 else 0\n",
    "    F1ScoreThreshold = 2 * ((PrecisionThreshold * RecallThreshold) / (PrecisionThreshold + RecallThreshold)) if (PrecisionThreshold + RecallThreshold) != 0 else 0\n",
    "    AccuracyThreshold = (tp + tn) / (tp + fp + tn + fn) if (tp + fp + tn + fn) != 0 else 0\n",
    "\n",
    "    # Mengukur waktu selesai\n",
    "    elapsed_time = time.time() - start_time\n",
    "\n",
    "    # Menyimpan hasil dalam format satu baris untuk setiap threshold\n",
    "    hasil_threshold.append([feature, threshold, PrecisionThreshold, RecallThreshold, F1ScoreThreshold, AccuracyThreshold, elapsed_time])\n",
    "\n",
    "# Lakukan thresholding pada fitur yang dipilih oleh Chi-Square Test\n",
    "for feature in tqdm(features, desc='Progress'):\n",
    "    # Pastikan bahwa Min dan Max adalah nilai numerik\n",
    "    Max = pd.to_numeric(sampled_data[feature], errors='coerce').max()\n",
    "    Min = pd.to_numeric(sampled_data[feature], errors='coerce').min()\n",
    "\n",
    "    # Cek apakah Min dan Max valid (bukan NaN)\n",
    "    if pd.notna(Min) and pd.notna(Max):\n",
    "        for x in range(int(Min), int(Max + 1)):\n",
    "            Thresholding(x, feature)\n",
    "    else:\n",
    "        print(f\"Fitur {feature} mengandung nilai non-numerik dan tidak dapat diproses.\")\n",
    "\n",
    "print(hasil_threshold)\n",
    "\n",
    "# Mengubah hasil menjadi DataFrame dengan kolom yang sesuai\n",
    "hasil_threshold_df = pd.DataFrame(hasil_threshold, columns=['Feature', 'Threshold', 'Precision', 'Recall', 'F1_Score', 'Accuracy', 'Elapsed_Time'])\n",
    "\n",
    "# Simpan DataFrame ke CSV\n",
    "hasil_threshold_df.to_csv('Brute Force.csv', index=False)\n",
    "\n",
    "print(\"Hasil threshold disimpan ke dalam file 'Brute Force.csv'\")"
   ]
  },
  {
   "cell_type": "code",
   "execution_count": null,
   "id": "555f2450-446e-4840-a059-076131f65250",
   "metadata": {},
   "outputs": [],
   "source": [
    "HasilThreshold = pd.read_csv(\"C:\\\\Data Raihan\\\\Penelitian Threshold\\\\02-10-2024\\\\Brute Force.csv\")\n",
    "HasilThreshold.info()"
   ]
  },
  {
   "cell_type": "code",
   "execution_count": null,
   "id": "b5fcaa78-223e-473e-95de-2b59f6857c38",
   "metadata": {},
   "outputs": [],
   "source": [
    "# Inisialisasi variabel winner untuk masing-masing metrik\n",
    "winner_precision = ['', '', 0]  # [feature, threshold, value]\n",
    "winner_recall = ['', '', 0]\n",
    "winner_f1_score = ['', '', 0]\n",
    "winner_accuracy = ['', '', 0]\n",
    "winner_run_time = ['', '', float('inf')]  # Memilih yang terendah, jadi diinisialisasi dengan tak hingga\n",
    "\n",
    "# Iterasi melalui setiap baris di HasilThreshold\n",
    "for index, result in HasilThreshold.iterrows():\n",
    "    # result['Feature'], result['Threshold'], result['Precision'], \n",
    "    # result['Recall'], result['F1_Score'], result['Accuracy'],\n",
    "    # result['Elapsed_Time']\n",
    "    \n",
    "    # Membandingkan Precision\n",
    "    if result['Precision'] > winner_precision[2]:  # result['Precision']\n",
    "        winner_precision = [result['Feature'], result['Threshold'], result['Precision']]  # [feature, threshold, Precision]\n",
    "    \n",
    "    # Membandingkan Recall\n",
    "    if result['Recall'] > winner_recall[2]:  # result['Recall']\n",
    "        winner_recall = [result['Feature'], result['Threshold'], result['Recall']]  # [feature, threshold, Recall]\n",
    "\n",
    "    # Membandingkan F1-score\n",
    "    if result['F1_Score'] > winner_f1_score[2]:  # result['F1_Score']\n",
    "        winner_f1_score = [result['Feature'], result['Threshold'], result['F1_Score']]  # [feature, threshold, F1 Score]\n",
    "\n",
    "    # Membandingkan Accuracy\n",
    "    if result['Accuracy'] > winner_accuracy[2]:  # result['Accuracy']\n",
    "        winner_accuracy = [result['Feature'], result['Threshold'], result['Accuracy']]  # [feature, threshold, Accuracy]\n",
    "\n",
    "    # Membandingkan waktu running (run_time) untuk threshold tercepat (terkecil)\n",
    "    if result['Elapsed_Time'] < winner_run_time[2]:  # result['Elapsed_Time']\n",
    "        winner_run_time = [result['Feature'], result['Threshold'], result['Elapsed_Time']]  # [feature, threshold, elapsed_time]"
   ]
  },
  {
   "cell_type": "code",
   "execution_count": null,
   "id": "9cb377c6-6f86-4fed-842c-18b094dcc1bf",
   "metadata": {},
   "outputs": [],
   "source": [
    "def plot_metrics_for_winner(winner, metric_name):\n",
    "    winner_feature, winner_threshold = winner[0], winner[1]\n",
    "\n",
    "    # Memfilter hasil threshold untuk fitur pemenang\n",
    "    winner_results = HasilThreshold[HasilThreshold['Feature'] == winner_feature]\n",
    "\n",
    "    # Pisahkan hasil menjadi list berdasarkan threshold dan kolom metrik\n",
    "    thresholds = winner_results['Threshold'].tolist()  # Threshold\n",
    "    precision = winner_results['Precision'].tolist()   # Precision\n",
    "    recall = winner_results['Recall'].tolist()         # Recall\n",
    "    f1_score = winner_results['F1_Score'].tolist()     # F1 Score\n",
    "    accuracy = winner_results['Accuracy'].tolist()      # Accuracy\n",
    "\n",
    "    # Plotting\n",
    "    plt.figure(figsize=(10, 6))\n",
    "    plt.plot(thresholds, accuracy, label='Accuracy', marker='o')\n",
    "    plt.plot(thresholds, precision, label='Precision', marker='o')\n",
    "    plt.plot(thresholds, recall, label='Recall', marker='o')\n",
    "    plt.plot(thresholds, f1_score, label='F1 Score', marker='o')\n",
    "\n",
    "    plt.title(f'{metric_name} Winner: Metrics vs. Threshold for Feature {winner_feature}')\n",
    "    plt.xlabel('Threshold')\n",
    "    plt.ylabel('Score')\n",
    "    plt.legend()\n",
    "    plt.grid(True)\n",
    "    plt.show()"
   ]
  },
  {
   "cell_type": "code",
   "execution_count": null,
   "id": "d980799f-878e-4ad7-9d41-ebe2f5a6a269",
   "metadata": {},
   "outputs": [],
   "source": [
    "def plot_runtime_for_winner(winner):\n",
    "    winner_feature, winner_threshold = winner[0], winner[1]\n",
    "\n",
    "    # Memfilter hasil threshold untuk fitur pemenang\n",
    "    winner_results = HasilThreshold[HasilThreshold['Feature'] == winner_feature]\n",
    "\n",
    "    # Pisahkan hasil menjadi list berdasarkan threshold dan run_time\n",
    "    thresholds = winner_results['Threshold'].tolist()    # Threshold\n",
    "    run_time = winner_results['Elapsed_Time'].tolist()   # Run Time (elapsed_time)\n",
    "\n",
    "    # Plotting\n",
    "    plt.figure(figsize=(10, 6))\n",
    "    plt.plot(thresholds, run_time, label='Run Time', marker='o')\n",
    "\n",
    "    plt.title(f'Run Time Winner: Run Time vs. Threshold for Feature {winner_feature}')\n",
    "    plt.xlabel('Threshold')\n",
    "    plt.ylabel('Run Time (seconds)')\n",
    "    plt.legend()\n",
    "    plt.grid(True)\n",
    "    plt.show()"
   ]
  },
  {
   "cell_type": "code",
   "execution_count": null,
   "id": "7bf5cf05-34f4-4700-9788-aa8b8ef06a6d",
   "metadata": {},
   "outputs": [],
   "source": [
    "# Plot untuk Accuracy Winner\n",
    "plot_metrics_for_winner(winner_accuracy, 'Accuracy')"
   ]
  },
  {
   "cell_type": "code",
   "execution_count": null,
   "id": "fb53b7d6-8a37-431d-83cd-7cb4c53a8df7",
   "metadata": {},
   "outputs": [],
   "source": [
    "# Plot untuk Precision Winner\n",
    "plot_metrics_for_winner(winner_precision, 'Precision')"
   ]
  },
  {
   "cell_type": "code",
   "execution_count": null,
   "id": "52f463f9-a475-4c47-bdc5-9c2f14a0f746",
   "metadata": {},
   "outputs": [],
   "source": [
    "# Plot untuk Recall Winner\n",
    "plot_metrics_for_winner(winner_recall, 'Recall')"
   ]
  },
  {
   "cell_type": "code",
   "execution_count": null,
   "id": "4db0f539-844b-43fe-aa4d-a57c0cadc493",
   "metadata": {},
   "outputs": [],
   "source": [
    "# Plot untuk F1-Score Winner\n",
    "plot_metrics_for_winner(winner_f1_score, 'F1 Score')"
   ]
  },
  {
   "cell_type": "code",
   "execution_count": null,
   "id": "fd74bcf5-594a-42e6-8df7-bcc4143815b9",
   "metadata": {},
   "outputs": [],
   "source": [
    "# Plot untuk Run Time Winner\n",
    "plot_runtime_for_winner(winner_run_time)"
   ]
  },
  {
   "cell_type": "code",
   "execution_count": null,
   "id": "4b6b05a0-bf88-4e0b-8af7-b720226c75ae",
   "metadata": {},
   "outputs": [],
   "source": [
    "# Output untuk setiap metrik\n",
    "print(f\"Precision terbaik dicapai dengan fitur {winner_precision[0]} dan threshold {winner_precision[1]}, menghasilkan precision {winner_precision[2]}.\")\n",
    "print(f\"Recall terbaik dicapai dengan fitur {winner_recall[0]} dan threshold {winner_recall[1]}, menghasilkan recall {winner_recall[2]}.\")\n",
    "print(f\"F1-score terbaik dicapai dengan fitur {winner_f1_score[0]} dan threshold {winner_f1_score[1]}, menghasilkan F1-score {winner_f1_score[2]}.\")\n",
    "print(f\"Akurasi terbaik dicapai dengan fitur {winner_accuracy[0]} dan threshold {winner_accuracy[1]}, menghasilkan akurasi {winner_accuracy[2]}.\")\n",
    "print(f\"Waktu running tercepat dicapai dengan fitur {winner_run_time[0]} dan threshold {winner_run_time[1]}, dengan waktu running {winner_run_time[2]} detik.\")"
   ]
  },
  {
   "cell_type": "code",
   "execution_count": null,
   "id": "ad4f40f0-48d9-4eb6-92b5-43fd4058ca0d",
   "metadata": {},
   "outputs": [],
   "source": []
  }
 ],
 "metadata": {
  "kernelspec": {
   "display_name": "Python 3 (ipykernel)",
   "language": "python",
   "name": "python3"
  },
  "language_info": {
   "codemirror_mode": {
    "name": "ipython",
    "version": 3
   },
   "file_extension": ".py",
   "mimetype": "text/x-python",
   "name": "python",
   "nbconvert_exporter": "python",
   "pygments_lexer": "ipython3",
   "version": "3.11.2"
  }
 },
 "nbformat": 4,
 "nbformat_minor": 5
}
