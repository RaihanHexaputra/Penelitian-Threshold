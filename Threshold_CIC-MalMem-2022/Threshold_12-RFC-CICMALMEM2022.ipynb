{
 "cells": [
  {
   "cell_type": "code",
   "execution_count": 1,
   "id": "674d68be-dee1-4910-a28e-f08a102316c8",
   "metadata": {},
   "outputs": [],
   "source": [
    "# Library\n",
    "import pandas as pd\n",
    "import matplotlib.pyplot as plt\n",
    "import os\n",
    "import numpy\n",
    "import pickle\n",
    "import pefile\n",
    "import sklearn.ensemble as ek\n",
    "from sklearn.feature_selection import SelectFromModel\n",
    "import joblib\n",
    "from sklearn.metrics import confusion_matrix\n",
    "import sklearn.metrics as metrics\n",
    "from sklearn.model_selection import cross_val_score\n",
    "import numpy as np\n",
    "from tqdm import tqdm\n",
    "from sklearn.linear_model import Ridge\n",
    "from sklearn.preprocessing import LabelEncoder, MinMaxScaler\n",
    "import time"
   ]
  },
  {
   "cell_type": "code",
   "execution_count": 2,
   "id": "103abc4c-1b2e-4ca0-82e5-0b66b34b6afa",
   "metadata": {},
   "outputs": [],
   "source": [
    "# Input Dataset \n",
    "\n",
    "DM = pd.read_csv(\"C:\\\\Data Raihan\\\\Penelitian Threshold\\\\Dataset\\\\Obfuscated-MalMem2022\\\\Obfuscated-MalMem2022.csv\") #DM--> Dataset Malware"
   ]
  },
  {
   "cell_type": "code",
   "execution_count": 3,
   "id": "11b14026-c76d-4c99-8f2a-723225d2df76",
   "metadata": {},
   "outputs": [
    {
     "name": "stdout",
     "output_type": "stream",
     "text": [
      "<class 'pandas.core.frame.DataFrame'>\n",
      "RangeIndex: 58596 entries, 0 to 58595\n",
      "Data columns (total 57 columns):\n",
      " #   Column                                  Non-Null Count  Dtype  \n",
      "---  ------                                  --------------  -----  \n",
      " 0   Category                                58596 non-null  object \n",
      " 1   pslist.nproc                            58596 non-null  int64  \n",
      " 2   pslist.nppid                            58596 non-null  int64  \n",
      " 3   pslist.avg_threads                      58596 non-null  float64\n",
      " 4   pslist.nprocs64bit                      58596 non-null  int64  \n",
      " 5   pslist.avg_handlers                     58596 non-null  float64\n",
      " 6   dlllist.ndlls                           58596 non-null  int64  \n",
      " 7   dlllist.avg_dlls_per_proc               58596 non-null  float64\n",
      " 8   handles.nhandles                        58596 non-null  int64  \n",
      " 9   handles.avg_handles_per_proc            58596 non-null  float64\n",
      " 10  handles.nport                           58596 non-null  int64  \n",
      " 11  handles.nfile                           58596 non-null  int64  \n",
      " 12  handles.nevent                          58596 non-null  int64  \n",
      " 13  handles.ndesktop                        58596 non-null  int64  \n",
      " 14  handles.nkey                            58596 non-null  int64  \n",
      " 15  handles.nthread                         58596 non-null  int64  \n",
      " 16  handles.ndirectory                      58596 non-null  int64  \n",
      " 17  handles.nsemaphore                      58596 non-null  int64  \n",
      " 18  handles.ntimer                          58596 non-null  int64  \n",
      " 19  handles.nsection                        58596 non-null  int64  \n",
      " 20  handles.nmutant                         58596 non-null  int64  \n",
      " 21  ldrmodules.not_in_load                  58596 non-null  int64  \n",
      " 22  ldrmodules.not_in_init                  58596 non-null  int64  \n",
      " 23  ldrmodules.not_in_mem                   58596 non-null  int64  \n",
      " 24  ldrmodules.not_in_load_avg              58596 non-null  float64\n",
      " 25  ldrmodules.not_in_init_avg              58596 non-null  float64\n",
      " 26  ldrmodules.not_in_mem_avg               58596 non-null  float64\n",
      " 27  malfind.ninjections                     58596 non-null  int64  \n",
      " 28  malfind.commitCharge                    58596 non-null  int64  \n",
      " 29  malfind.protection                      58596 non-null  int64  \n",
      " 30  malfind.uniqueInjections                58596 non-null  float64\n",
      " 31  psxview.not_in_pslist                   58596 non-null  int64  \n",
      " 32  psxview.not_in_eprocess_pool            58596 non-null  int64  \n",
      " 33  psxview.not_in_ethread_pool             58596 non-null  int64  \n",
      " 34  psxview.not_in_pspcid_list              58596 non-null  int64  \n",
      " 35  psxview.not_in_csrss_handles            58596 non-null  int64  \n",
      " 36  psxview.not_in_session                  58596 non-null  int64  \n",
      " 37  psxview.not_in_deskthrd                 58596 non-null  int64  \n",
      " 38  psxview.not_in_pslist_false_avg         58596 non-null  float64\n",
      " 39  psxview.not_in_eprocess_pool_false_avg  58596 non-null  float64\n",
      " 40  psxview.not_in_ethread_pool_false_avg   58596 non-null  float64\n",
      " 41  psxview.not_in_pspcid_list_false_avg    58596 non-null  float64\n",
      " 42  psxview.not_in_csrss_handles_false_avg  58596 non-null  float64\n",
      " 43  psxview.not_in_session_false_avg        58596 non-null  float64\n",
      " 44  psxview.not_in_deskthrd_false_avg       58596 non-null  float64\n",
      " 45  modules.nmodules                        58596 non-null  int64  \n",
      " 46  svcscan.nservices                       58596 non-null  int64  \n",
      " 47  svcscan.kernel_drivers                  58596 non-null  int64  \n",
      " 48  svcscan.fs_drivers                      58596 non-null  int64  \n",
      " 49  svcscan.process_services                58596 non-null  int64  \n",
      " 50  svcscan.shared_process_services         58596 non-null  int64  \n",
      " 51  svcscan.interactive_process_services    58596 non-null  int64  \n",
      " 52  svcscan.nactive                         58596 non-null  int64  \n",
      " 53  callbacks.ncallbacks                    58596 non-null  int64  \n",
      " 54  callbacks.nanonymous                    58596 non-null  int64  \n",
      " 55  callbacks.ngeneric                      58596 non-null  int64  \n",
      " 56  Class                                   58596 non-null  object \n",
      "dtypes: float64(15), int64(40), object(2)\n",
      "memory usage: 25.5+ MB\n"
     ]
    }
   ],
   "source": [
    "DM.info()"
   ]
  },
  {
   "cell_type": "code",
   "execution_count": 4,
   "id": "6dcbc54b-758f-4b1f-999c-71e61b807d47",
   "metadata": {},
   "outputs": [],
   "source": [
    "#Feature Selection\n",
    "features_to_drop = ['Category', 'Class']\n",
    "\n",
    "# Droping specified columns and target variable\n",
    "X = DM.drop(features_to_drop, axis=1).values    \n",
    "y = DM['Class'].values"
   ]
  },
  {
   "cell_type": "code",
   "execution_count": 5,
   "id": "41bd6d6c-c0ef-470b-9c61-cf4044411438",
   "metadata": {},
   "outputs": [],
   "source": [
    "#Remove Nan\n",
    "X = pd.DataFrame(X).dropna()\n",
    "y = y[X.index]"
   ]
  },
  {
   "cell_type": "code",
   "execution_count": 6,
   "id": "2f8f7589-ddf7-41a4-aaa7-436e367e5f6c",
   "metadata": {},
   "outputs": [],
   "source": [
    "# Applying Min-Max scaling to make X non-negative\n",
    "scaler = MinMaxScaler()\n",
    "X_scaled = scaler.fit_transform(X)"
   ]
  },
  {
   "cell_type": "code",
   "execution_count": 7,
   "id": "15b3a26c-aa22-42e7-a8c2-69ebf2f927e3",
   "metadata": {},
   "outputs": [],
   "source": [
    "# Encode target variable 'Class' (y)\n",
    "label_encoder = LabelEncoder()\n",
    "y_encoded = label_encoder.fit_transform(y)"
   ]
  },
  {
   "cell_type": "code",
   "execution_count": 8,
   "id": "c355a696-fe69-43fd-8957-c3fd27306a68",
   "metadata": {},
   "outputs": [
    {
     "data": {
      "text/html": [
       "<style>#sk-container-id-1 {color: black;}#sk-container-id-1 pre{padding: 0;}#sk-container-id-1 div.sk-toggleable {background-color: white;}#sk-container-id-1 label.sk-toggleable__label {cursor: pointer;display: block;width: 100%;margin-bottom: 0;padding: 0.3em;box-sizing: border-box;text-align: center;}#sk-container-id-1 label.sk-toggleable__label-arrow:before {content: \"▸\";float: left;margin-right: 0.25em;color: #696969;}#sk-container-id-1 label.sk-toggleable__label-arrow:hover:before {color: black;}#sk-container-id-1 div.sk-estimator:hover label.sk-toggleable__label-arrow:before {color: black;}#sk-container-id-1 div.sk-toggleable__content {max-height: 0;max-width: 0;overflow: hidden;text-align: left;background-color: #f0f8ff;}#sk-container-id-1 div.sk-toggleable__content pre {margin: 0.2em;color: black;border-radius: 0.25em;background-color: #f0f8ff;}#sk-container-id-1 input.sk-toggleable__control:checked~div.sk-toggleable__content {max-height: 200px;max-width: 100%;overflow: auto;}#sk-container-id-1 input.sk-toggleable__control:checked~label.sk-toggleable__label-arrow:before {content: \"▾\";}#sk-container-id-1 div.sk-estimator input.sk-toggleable__control:checked~label.sk-toggleable__label {background-color: #d4ebff;}#sk-container-id-1 div.sk-label input.sk-toggleable__control:checked~label.sk-toggleable__label {background-color: #d4ebff;}#sk-container-id-1 input.sk-hidden--visually {border: 0;clip: rect(1px 1px 1px 1px);clip: rect(1px, 1px, 1px, 1px);height: 1px;margin: -1px;overflow: hidden;padding: 0;position: absolute;width: 1px;}#sk-container-id-1 div.sk-estimator {font-family: monospace;background-color: #f0f8ff;border: 1px dotted black;border-radius: 0.25em;box-sizing: border-box;margin-bottom: 0.5em;}#sk-container-id-1 div.sk-estimator:hover {background-color: #d4ebff;}#sk-container-id-1 div.sk-parallel-item::after {content: \"\";width: 100%;border-bottom: 1px solid gray;flex-grow: 1;}#sk-container-id-1 div.sk-label:hover label.sk-toggleable__label {background-color: #d4ebff;}#sk-container-id-1 div.sk-serial::before {content: \"\";position: absolute;border-left: 1px solid gray;box-sizing: border-box;top: 0;bottom: 0;left: 50%;z-index: 0;}#sk-container-id-1 div.sk-serial {display: flex;flex-direction: column;align-items: center;background-color: white;padding-right: 0.2em;padding-left: 0.2em;position: relative;}#sk-container-id-1 div.sk-item {position: relative;z-index: 1;}#sk-container-id-1 div.sk-parallel {display: flex;align-items: stretch;justify-content: center;background-color: white;position: relative;}#sk-container-id-1 div.sk-item::before, #sk-container-id-1 div.sk-parallel-item::before {content: \"\";position: absolute;border-left: 1px solid gray;box-sizing: border-box;top: 0;bottom: 0;left: 50%;z-index: -1;}#sk-container-id-1 div.sk-parallel-item {display: flex;flex-direction: column;z-index: 1;position: relative;background-color: white;}#sk-container-id-1 div.sk-parallel-item:first-child::after {align-self: flex-end;width: 50%;}#sk-container-id-1 div.sk-parallel-item:last-child::after {align-self: flex-start;width: 50%;}#sk-container-id-1 div.sk-parallel-item:only-child::after {width: 0;}#sk-container-id-1 div.sk-dashed-wrapped {border: 1px dashed gray;margin: 0 0.4em 0.5em 0.4em;box-sizing: border-box;padding-bottom: 0.4em;background-color: white;}#sk-container-id-1 div.sk-label label {font-family: monospace;font-weight: bold;display: inline-block;line-height: 1.2em;}#sk-container-id-1 div.sk-label-container {text-align: center;}#sk-container-id-1 div.sk-container {/* jupyter's `normalize.less` sets `[hidden] { display: none; }` but bootstrap.min.css set `[hidden] { display: none !important; }` so we also need the `!important` here to be able to override the default hidden behavior on the sphinx rendered scikit-learn.org. See: https://github.com/scikit-learn/scikit-learn/issues/21755 */display: inline-block !important;position: relative;}#sk-container-id-1 div.sk-text-repr-fallback {display: none;}</style><div id=\"sk-container-id-1\" class=\"sk-top-container\"><div class=\"sk-text-repr-fallback\"><pre>Ridge()</pre><b>In a Jupyter environment, please rerun this cell to show the HTML representation or trust the notebook. <br />On GitHub, the HTML representation is unable to render, please try loading this page with nbviewer.org.</b></div><div class=\"sk-container\" hidden><div class=\"sk-item\"><div class=\"sk-estimator sk-toggleable\"><input class=\"sk-toggleable__control sk-hidden--visually\" id=\"sk-estimator-id-1\" type=\"checkbox\" checked><label for=\"sk-estimator-id-1\" class=\"sk-toggleable__label sk-toggleable__label-arrow\">Ridge</label><div class=\"sk-toggleable__content\"><pre>Ridge()</pre></div></div></div></div></div>"
      ],
      "text/plain": [
       "Ridge()"
      ]
     },
     "execution_count": 8,
     "metadata": {},
     "output_type": "execute_result"
    }
   ],
   "source": [
    "# Ridge (L2 Regularization) for feature selection\n",
    "ridge = Ridge(alpha=1.0)  # You can adjust alpha for regularization strength\n",
    "ridge.fit(X_scaled, y_encoded)"
   ]
  },
  {
   "cell_type": "code",
   "execution_count": 9,
   "id": "1aa8ad04-c8ca-43d2-95fc-f272b05e0a4b",
   "metadata": {},
   "outputs": [
    {
     "name": "stdout",
     "output_type": "stream",
     "text": [
      "Selected features using Ridge Regularization:\n",
      "Feature pslist.nproc with Ridge coefficient 0.4720247151740322\n",
      "Feature pslist.nppid with Ridge coefficient -0.13761101206124113\n",
      "Feature pslist.avg_threads with Ridge coefficient -0.2916817050311664\n",
      "Feature pslist.avg_handlers with Ridge coefficient -0.665831486335252\n",
      "Feature dlllist.ndlls with Ridge coefficient 1.2587232793990872\n",
      "Feature dlllist.avg_dlls_per_proc with Ridge coefficient -2.5035595958239414\n",
      "Feature handles.nhandles with Ridge coefficient -0.6101638062393351\n",
      "Feature handles.avg_handles_per_proc with Ridge coefficient -0.6491030536067102\n",
      "Feature handles.nfile with Ridge coefficient -0.5441404663410597\n",
      "Feature handles.nevent with Ridge coefficient -1.6809047588698305\n",
      "Feature handles.ndesktop with Ridge coefficient -3.5917445017851253\n",
      "Feature handles.nkey with Ridge coefficient -0.5049353122545164\n",
      "Feature handles.nthread with Ridge coefficient 1.891568834689876\n",
      "Feature handles.ndirectory with Ridge coefficient 2.489224683779964\n",
      "Feature handles.nsemaphore with Ridge coefficient 1.6149988415459533\n",
      "Feature handles.ntimer with Ridge coefficient -1.0476974639370593\n",
      "Feature handles.nsection with Ridge coefficient -1.6558672334112383\n",
      "Feature handles.nmutant with Ridge coefficient 0.1295961988048859\n",
      "Feature ldrmodules.not_in_load with Ridge coefficient -1.233923872168206\n",
      "Feature ldrmodules.not_in_init with Ridge coefficient 1.6551455872284464\n",
      "Feature ldrmodules.not_in_mem with Ridge coefficient -1.223265478302199\n",
      "Feature ldrmodules.not_in_load_avg with Ridge coefficient 0.2622870303751071\n",
      "Feature ldrmodules.not_in_init_avg with Ridge coefficient -1.7050068360989201\n",
      "Feature ldrmodules.not_in_mem_avg with Ridge coefficient 0.25340537343398706\n",
      "Feature malfind.ninjections with Ridge coefficient 0.21656512019266544\n",
      "Feature malfind.commitCharge with Ridge coefficient 0.033870348361044425\n",
      "Feature malfind.protection with Ridge coefficient 0.006632445860209666\n",
      "Feature malfind.uniqueInjections with Ridge coefficient -0.024971551132699974\n",
      "Feature psxview.not_in_pslist with Ridge coefficient -0.010551481250769542\n",
      "Feature psxview.not_in_eprocess_pool with Ridge coefficient 0.06609492360372085\n",
      "Feature psxview.not_in_ethread_pool with Ridge coefficient 0.17544689222835008\n",
      "Feature psxview.not_in_pspcid_list with Ridge coefficient -0.06660357948224459\n",
      "Feature psxview.not_in_csrss_handles with Ridge coefficient 0.17676801826491464\n",
      "Feature psxview.not_in_session with Ridge coefficient 0.00452068992018872\n",
      "Feature psxview.not_in_deskthrd with Ridge coefficient -0.20020731980900117\n",
      "Feature psxview.not_in_pslist_false_avg with Ridge coefficient 0.10714522164645321\n",
      "Feature psxview.not_in_eprocess_pool_false_avg with Ridge coefficient -0.13992629722691735\n",
      "Feature psxview.not_in_ethread_pool_false_avg with Ridge coefficient -2.1277223530129814\n",
      "Feature psxview.not_in_pspcid_list_false_avg with Ridge coefficient -0.004348389156729538\n",
      "Feature psxview.not_in_csrss_handles_false_avg with Ridge coefficient -0.6048055243936681\n",
      "Feature psxview.not_in_session_false_avg with Ridge coefficient 1.1927881239170137\n",
      "Feature psxview.not_in_deskthrd_false_avg with Ridge coefficient 0.48678599251733173\n",
      "Feature modules.nmodules with Ridge coefficient 5.2034946831990165\n",
      "Feature svcscan.nservices with Ridge coefficient -0.06285188363667948\n",
      "Feature svcscan.kernel_drivers with Ridge coefficient 2.0683966472768938\n",
      "Feature svcscan.fs_drivers with Ridge coefficient 3.3511679708632287\n",
      "Feature svcscan.process_services with Ridge coefficient -0.27399439989701396\n",
      "Feature svcscan.shared_process_services with Ridge coefficient -4.340378791414629\n",
      "Feature svcscan.nactive with Ridge coefficient -1.0936270056715724\n",
      "Feature callbacks.ncallbacks with Ridge coefficient -0.04925547627991941\n",
      "Feature callbacks.nanonymous with Ridge coefficient 0.004047456088301143\n",
      "Feature callbacks.ngeneric with Ridge coefficient -0.056746815442811654\n"
     ]
    }
   ],
   "source": [
    "# Selecting non-zero coefficients\n",
    "ridge_support = np.where(ridge.coef_ != 0)[0]\n",
    "\n",
    "# Retrieve column names for the selected features\n",
    "filtered_columns = DM.drop(features_to_drop, axis=1).columns\n",
    "features = filtered_columns[ridge_support]\n",
    "\n",
    "# Print the selected features with their coefficients\n",
    "print(\"Selected features using Ridge Regularization:\")\n",
    "for idx in ridge_support:\n",
    "    print(f\"Feature {filtered_columns[idx]} with Ridge coefficient {ridge.coef_[idx]}\")"
   ]
  },
  {
   "cell_type": "code",
   "execution_count": 10,
   "id": "cbdd0877-c2ba-4c27-a531-0e69ba6823e9",
   "metadata": {},
   "outputs": [],
   "source": [
    "# Memilih 100% data secara acak dari setiap fitur/column\n",
    "sampled_data = DM.groupby('Class').apply(lambda x: x.sample(frac=1)).reset_index(drop=True)\n",
    "hasil_threshold = []"
   ]
  },
  {
   "cell_type": "code",
   "execution_count": null,
   "id": "ea493867-1977-4f6e-8e0b-416780bb2624",
   "metadata": {},
   "outputs": [
    {
     "name": "stderr",
     "output_type": "stream",
     "text": [
      "Progress:  12%|███████▋                                                           | 6/52 [1:22:57<11:00:19, 861.29s/it]"
     ]
    }
   ],
   "source": [
    "def Thresholding(threshold, feature):\n",
    "    # Mengukur waktu mulai\n",
    "    start_time = time.time()\n",
    "\n",
    "    # Melakukan thresholding\n",
    "    BenignDataThreshold = sampled_data[sampled_data[feature] > int(threshold)]\n",
    "    MalwareDataThreshold = sampled_data[sampled_data[feature] <= int(threshold)]\n",
    "\n",
    "    # Untuk BenignDataThreshold\n",
    "    y_true_benign = [\"Benign\"] * len(BenignDataThreshold)\n",
    "    y_pred_benign = BenignDataThreshold[\"Class\"]\n",
    "\n",
    "    # Untuk MalwareDataThreshold\n",
    "    y_true_malware = [\"Malware\"] * len(MalwareDataThreshold)\n",
    "    y_pred_malware = MalwareDataThreshold[\"Class\"]\n",
    "\n",
    "    # Menyatukan true labels dan predicted labels\n",
    "    y_true = y_true_benign + y_true_malware\n",
    "    y_pred = y_pred_benign.tolist() + y_pred_malware.tolist()\n",
    "\n",
    "    # Menghitung confusion matrix\n",
    "    tn, fp, fn, tp = confusion_matrix(y_true, y_pred).ravel()\n",
    "\n",
    "    # Menghitung Precision, Recall, F1-score, dan Accuracy\n",
    "    PrecisionThreshold = tp / (tp + fp) if (tp + fp) != 0 else 0\n",
    "    RecallThreshold = tp / (tp + fn) if (tp + fn) != 0 else 0\n",
    "    F1ScoreThreshold = 2 * ((PrecisionThreshold * RecallThreshold) / (PrecisionThreshold + RecallThreshold)) if (PrecisionThreshold + RecallThreshold) != 0 else 0\n",
    "    AccuracyThreshold = (tp + tn) / (tp + fp + tn + fn) if (tp + fp + tn + fn) != 0 else 0\n",
    "\n",
    "    # Mengukur waktu selesai\n",
    "    elapsed_time = time.time() - start_time\n",
    "\n",
    "    # Menyimpan hasil dalam format satu baris untuk setiap threshold\n",
    "    hasil_threshold.append([feature, threshold, PrecisionThreshold, RecallThreshold, F1ScoreThreshold, AccuracyThreshold, elapsed_time])\n",
    "\n",
    "# Lakukan thresholding pada fitur yang dipilih oleh Chi-Square Test\n",
    "for feature in tqdm(features, desc='Progress'):\n",
    "    # Pastikan bahwa Min dan Max adalah nilai numerik\n",
    "    Max = pd.to_numeric(sampled_data[feature], errors='coerce').max()\n",
    "    Min = pd.to_numeric(sampled_data[feature], errors='coerce').min()\n",
    "\n",
    "    # Cek apakah Min dan Max valid (bukan NaN)\n",
    "    if pd.notna(Min) and pd.notna(Max):\n",
    "        for x in range(int(Min), int(Max + 1)):\n",
    "            Thresholding(x, feature)\n",
    "    else:\n",
    "        print(f\"Fitur {feature} mengandung nilai non-numerik dan tidak dapat diproses.\")\n",
    "\n",
    "print(hasil_threshold)\n",
    "\n",
    "# Mengubah hasil menjadi DataFrame dengan kolom yang sesuai\n",
    "hasil_threshold_df = pd.DataFrame(hasil_threshold, columns=['Feature', 'Threshold', 'Precision', 'Recall', 'F1_Score', 'Accuracy', 'Elapsed_Time'])\n",
    "\n",
    "# Simpan DataFrame ke CSV\n",
    "hasil_threshold_df.to_csv('Ridge.csv', index=False)\n",
    "\n",
    "print(\"Hasil threshold disimpan ke dalam file 'Ridge.csv'\")"
   ]
  },
  {
   "cell_type": "code",
   "execution_count": null,
   "id": "223285de-4628-47b5-b69c-8f16a4845c3d",
   "metadata": {},
   "outputs": [],
   "source": [
    "HasilThreshold = pd.read_csv(\"C:\\\\Data Raihan\\\\Penelitian Threshold\\\\02-10-2024\\\\Ridge.csv\")\n",
    "HasilThreshold.info()"
   ]
  },
  {
   "cell_type": "code",
   "execution_count": null,
   "id": "67507889-1d5f-4213-aa70-6cb3a9ae1e4c",
   "metadata": {},
   "outputs": [],
   "source": [
    "# Inisialisasi variabel winner untuk masing-masing metrik\n",
    "winner_precision = ['', '', 0]  # [feature, threshold, value]\n",
    "winner_recall = ['', '', 0]\n",
    "winner_f1_score = ['', '', 0]\n",
    "winner_accuracy = ['', '', 0]\n",
    "winner_run_time = ['', '', float('inf')]  # Memilih yang terendah, jadi diinisialisasi dengan tak hingga\n",
    "\n",
    "# Iterasi melalui setiap baris di HasilThreshold\n",
    "for index, result in HasilThreshold.iterrows():\n",
    "    # result['Feature'], result['Threshold'], result['Precision'], \n",
    "    # result['Recall'], result['F1_Score'], result['Accuracy'],\n",
    "    # result['Elapsed_Time']\n",
    "    \n",
    "    # Membandingkan Precision\n",
    "    if result['Precision'] > winner_precision[2]:  # result['Precision']\n",
    "        winner_precision = [result['Feature'], result['Threshold'], result['Precision']]  # [feature, threshold, Precision]\n",
    "    \n",
    "    # Membandingkan Recall\n",
    "    if result['Recall'] > winner_recall[2]:  # result['Recall']\n",
    "        winner_recall = [result['Feature'], result['Threshold'], result['Recall']]  # [feature, threshold, Recall]\n",
    "\n",
    "    # Membandingkan F1-score\n",
    "    if result['F1_Score'] > winner_f1_score[2]:  # result['F1_Score']\n",
    "        winner_f1_score = [result['Feature'], result['Threshold'], result['F1_Score']]  # [feature, threshold, F1 Score]\n",
    "\n",
    "    # Membandingkan Accuracy\n",
    "    if result['Accuracy'] > winner_accuracy[2]:  # result['Accuracy']\n",
    "        winner_accuracy = [result['Feature'], result['Threshold'], result['Accuracy']]  # [feature, threshold, Accuracy]\n",
    "\n",
    "    # Membandingkan waktu running (run_time) untuk threshold tercepat (terkecil)\n",
    "    if result['Elapsed_Time'] < winner_run_time[2]:  # result['Elapsed_Time']\n",
    "        winner_run_time = [result['Feature'], result['Threshold'], result['Elapsed_Time']]  # [feature, threshold, elapsed_time]"
   ]
  },
  {
   "cell_type": "code",
   "execution_count": null,
   "id": "753fbf93-ca4b-4d47-9227-64636f0713d5",
   "metadata": {},
   "outputs": [],
   "source": [
    "def plot_metrics_for_winner(winner, metric_name):\n",
    "    winner_feature, winner_threshold = winner[0], winner[1]\n",
    "\n",
    "    # Memfilter hasil threshold untuk fitur pemenang\n",
    "    winner_results = HasilThreshold[HasilThreshold['Feature'] == winner_feature]\n",
    "\n",
    "    # Pisahkan hasil menjadi list berdasarkan threshold dan kolom metrik\n",
    "    thresholds = winner_results['Threshold'].tolist()  # Threshold\n",
    "    precision = winner_results['Precision'].tolist()   # Precision\n",
    "    recall = winner_results['Recall'].tolist()         # Recall\n",
    "    f1_score = winner_results['F1_Score'].tolist()     # F1 Score\n",
    "    accuracy = winner_results['Accuracy'].tolist()      # Accuracy\n",
    "\n",
    "    # Plotting\n",
    "    plt.figure(figsize=(10, 6))\n",
    "    plt.plot(thresholds, accuracy, label='Accuracy', marker='o')\n",
    "    plt.plot(thresholds, precision, label='Precision', marker='o')\n",
    "    plt.plot(thresholds, recall, label='Recall', marker='o')\n",
    "    plt.plot(thresholds, f1_score, label='F1 Score', marker='o')\n",
    "\n",
    "    plt.title(f'{metric_name} Winner: Metrics vs. Threshold for Feature {winner_feature}')\n",
    "    plt.xlabel('Threshold')\n",
    "    plt.ylabel('Score')\n",
    "    plt.legend()\n",
    "    plt.grid(True)\n",
    "    plt.show()"
   ]
  },
  {
   "cell_type": "code",
   "execution_count": null,
   "id": "0fa9f1a3-6e32-411e-841a-d9f0871f60c4",
   "metadata": {},
   "outputs": [],
   "source": [
    "def plot_runtime_for_winner(winner):\n",
    "    winner_feature, winner_threshold = winner[0], winner[1]\n",
    "\n",
    "    # Memfilter hasil threshold untuk fitur pemenang\n",
    "    winner_results = HasilThreshold[HasilThreshold['Feature'] == winner_feature]\n",
    "\n",
    "    # Pisahkan hasil menjadi list berdasarkan threshold dan run_time\n",
    "    thresholds = winner_results['Threshold'].tolist()    # Threshold\n",
    "    run_time = winner_results['Elapsed_Time'].tolist()   # Run Time (elapsed_time)\n",
    "\n",
    "    # Plotting\n",
    "    plt.figure(figsize=(10, 6))\n",
    "    plt.plot(thresholds, run_time, label='Run Time', marker='o')\n",
    "\n",
    "    plt.title(f'Run Time Winner: Run Time vs. Threshold for Feature {winner_feature}')\n",
    "    plt.xlabel('Threshold')\n",
    "    plt.ylabel('Run Time (seconds)')\n",
    "    plt.legend()\n",
    "    plt.grid(True)\n",
    "    plt.show()"
   ]
  },
  {
   "cell_type": "code",
   "execution_count": null,
   "id": "b6887f5a-10f7-4e03-a1c0-e7bd3c11fd31",
   "metadata": {},
   "outputs": [],
   "source": [
    "# Plot untuk Accuracy Winner\n",
    "plot_metrics_for_winner(winner_accuracy, 'Accuracy')"
   ]
  },
  {
   "cell_type": "code",
   "execution_count": null,
   "id": "0649f850-0fc7-47d8-85bb-84354dcdef70",
   "metadata": {},
   "outputs": [],
   "source": [
    "# Plot untuk Precision Winner\n",
    "plot_metrics_for_winner(winner_precision, 'Precision')"
   ]
  },
  {
   "cell_type": "code",
   "execution_count": null,
   "id": "2adbbe1e-697a-4980-8ac0-4c0198279995",
   "metadata": {},
   "outputs": [],
   "source": [
    "# Plot untuk Recall Winner\n",
    "plot_metrics_for_winner(winner_recall, 'Recall')"
   ]
  },
  {
   "cell_type": "code",
   "execution_count": null,
   "id": "755829db-2332-41ac-a202-f569f9d624e1",
   "metadata": {},
   "outputs": [],
   "source": [
    "# Plot untuk F1-Score Winner\n",
    "plot_metrics_for_winner(winner_f1_score, 'F1 Score')"
   ]
  },
  {
   "cell_type": "code",
   "execution_count": null,
   "id": "f58b3ba2-0b58-4218-aeaf-66447b8618d4",
   "metadata": {},
   "outputs": [],
   "source": [
    "# Plot untuk Run Time Winner\n",
    "plot_runtime_for_winner(winner_run_time)"
   ]
  },
  {
   "cell_type": "code",
   "execution_count": null,
   "id": "1ce8b07b-7ded-4a43-b4c3-0d4883b484e2",
   "metadata": {},
   "outputs": [],
   "source": [
    "# Output untuk setiap metrik\n",
    "print(f\"Precision terbaik dicapai dengan fitur {winner_precision[0]} dan threshold {winner_precision[1]}, menghasilkan precision {winner_precision[2]}.\")\n",
    "print(f\"Recall terbaik dicapai dengan fitur {winner_recall[0]} dan threshold {winner_recall[1]}, menghasilkan recall {winner_recall[2]}.\")\n",
    "print(f\"F1-score terbaik dicapai dengan fitur {winner_f1_score[0]} dan threshold {winner_f1_score[1]}, menghasilkan F1-score {winner_f1_score[2]}.\")\n",
    "print(f\"Akurasi terbaik dicapai dengan fitur {winner_accuracy[0]} dan threshold {winner_accuracy[1]}, menghasilkan akurasi {winner_accuracy[2]}.\")\n",
    "print(f\"Waktu running tercepat dicapai dengan fitur {winner_run_time[0]} dan threshold {winner_run_time[1]}, dengan waktu running {winner_run_time[2]} detik.\")"
   ]
  },
  {
   "cell_type": "code",
   "execution_count": null,
   "id": "c19c643a-4213-435e-ab40-0d4f86031267",
   "metadata": {},
   "outputs": [],
   "source": []
  }
 ],
 "metadata": {
  "kernelspec": {
   "display_name": "Python 3 (ipykernel)",
   "language": "python",
   "name": "python3"
  },
  "language_info": {
   "codemirror_mode": {
    "name": "ipython",
    "version": 3
   },
   "file_extension": ".py",
   "mimetype": "text/x-python",
   "name": "python",
   "nbconvert_exporter": "python",
   "pygments_lexer": "ipython3",
   "version": "3.11.2"
  }
 },
 "nbformat": 4,
 "nbformat_minor": 5
}
