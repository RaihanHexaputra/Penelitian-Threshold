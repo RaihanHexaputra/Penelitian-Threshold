{
 "cells": [
  {
   "cell_type": "code",
   "execution_count": 1,
   "id": "674d68be-dee1-4910-a28e-f08a102316c8",
   "metadata": {},
   "outputs": [],
   "source": [
    "# Library\n",
    "import pandas as pd\n",
    "import matplotlib.pyplot as plt\n",
    "import os\n",
    "import numpy\n",
    "import pickle\n",
    "import pefile\n",
    "import sklearn.ensemble as ek\n",
    "from sklearn.feature_selection import SelectFromModel\n",
    "import joblib\n",
    "from sklearn.metrics import confusion_matrix\n",
    "import sklearn.metrics as metrics\n",
    "from sklearn.neural_network import MLPClassifier\n",
    "from sklearn.linear_model import SGDClassifier\n",
    "from sklearn.model_selection import cross_val_score\n",
    "import numpy as np\n",
    "from tqdm import tqdm"
   ]
  },
  {
   "cell_type": "code",
   "execution_count": 2,
   "id": "103abc4c-1b2e-4ca0-82e5-0b66b34b6afa",
   "metadata": {},
   "outputs": [
    {
     "name": "stderr",
     "output_type": "stream",
     "text": [
      "C:\\Users\\Muhammad Raihan\\AppData\\Local\\Temp\\ipykernel_9056\\1797384605.py:3: DtypeWarning: Columns (85) have mixed types. Specify dtype option on import or set low_memory=False.\n",
      "  DM = pd.read_csv(\"C:\\\\Data Raihan\\\\Penelitian Threshold\\\\Dataset\\\\CIC-DDoS2019-DrDoS_NTP\\\\DrDoS_NTP.csv\") #DM--> Dataset Malware\n"
     ]
    }
   ],
   "source": [
    "# Input Dataset \n",
    "\n",
    "DM = pd.read_csv(\"C:\\\\Data Raihan\\\\Penelitian Threshold\\\\Dataset\\\\CIC-DDoS2019-DrDoS_NTP\\\\DrDoS_NTP.csv\") #DM--> Dataset Malware"
   ]
  },
  {
   "cell_type": "code",
   "execution_count": 3,
   "id": "11b14026-c76d-4c99-8f2a-723225d2df76",
   "metadata": {},
   "outputs": [
    {
     "name": "stdout",
     "output_type": "stream",
     "text": [
      "<class 'pandas.core.frame.DataFrame'>\n",
      "RangeIndex: 1217007 entries, 0 to 1217006\n",
      "Data columns (total 88 columns):\n",
      " #   Column                        Non-Null Count    Dtype  \n",
      "---  ------                        --------------    -----  \n",
      " 0   Unnamed: 0                    1217007 non-null  int64  \n",
      " 1   Flow ID                       1217007 non-null  object \n",
      " 2    Source IP                    1217007 non-null  object \n",
      " 3    Source Port                  1217007 non-null  int64  \n",
      " 4    Destination IP               1217007 non-null  object \n",
      " 5    Destination Port             1217007 non-null  int64  \n",
      " 6    Protocol                     1217007 non-null  int64  \n",
      " 7    Timestamp                    1217007 non-null  object \n",
      " 8    Flow Duration                1217007 non-null  int64  \n",
      " 9    Total Fwd Packets            1217007 non-null  int64  \n",
      " 10   Total Backward Packets       1217007 non-null  int64  \n",
      " 11  Total Length of Fwd Packets   1217007 non-null  float64\n",
      " 12   Total Length of Bwd Packets  1217007 non-null  float64\n",
      " 13   Fwd Packet Length Max        1217007 non-null  float64\n",
      " 14   Fwd Packet Length Min        1217007 non-null  float64\n",
      " 15   Fwd Packet Length Mean       1217007 non-null  float64\n",
      " 16   Fwd Packet Length Std        1217007 non-null  float64\n",
      " 17  Bwd Packet Length Max         1217007 non-null  float64\n",
      " 18   Bwd Packet Length Min        1217007 non-null  float64\n",
      " 19   Bwd Packet Length Mean       1217007 non-null  float64\n",
      " 20   Bwd Packet Length Std        1217007 non-null  float64\n",
      " 21  Flow Bytes/s                  1216976 non-null  float64\n",
      " 22   Flow Packets/s               1217007 non-null  float64\n",
      " 23   Flow IAT Mean                1217007 non-null  float64\n",
      " 24   Flow IAT Std                 1217007 non-null  float64\n",
      " 25   Flow IAT Max                 1217007 non-null  float64\n",
      " 26   Flow IAT Min                 1217007 non-null  float64\n",
      " 27  Fwd IAT Total                 1217007 non-null  float64\n",
      " 28   Fwd IAT Mean                 1217007 non-null  float64\n",
      " 29   Fwd IAT Std                  1217007 non-null  float64\n",
      " 30   Fwd IAT Max                  1217007 non-null  float64\n",
      " 31   Fwd IAT Min                  1217007 non-null  float64\n",
      " 32  Bwd IAT Total                 1217007 non-null  float64\n",
      " 33   Bwd IAT Mean                 1217007 non-null  float64\n",
      " 34   Bwd IAT Std                  1217007 non-null  float64\n",
      " 35   Bwd IAT Max                  1217007 non-null  float64\n",
      " 36   Bwd IAT Min                  1217007 non-null  float64\n",
      " 37  Fwd PSH Flags                 1217007 non-null  int64  \n",
      " 38   Bwd PSH Flags                1217007 non-null  int64  \n",
      " 39   Fwd URG Flags                1217007 non-null  int64  \n",
      " 40   Bwd URG Flags                1217007 non-null  int64  \n",
      " 41   Fwd Header Length            1217007 non-null  int64  \n",
      " 42   Bwd Header Length            1217007 non-null  int64  \n",
      " 43  Fwd Packets/s                 1217007 non-null  float64\n",
      " 44   Bwd Packets/s                1217007 non-null  float64\n",
      " 45   Min Packet Length            1217007 non-null  float64\n",
      " 46   Max Packet Length            1217007 non-null  float64\n",
      " 47   Packet Length Mean           1217007 non-null  float64\n",
      " 48   Packet Length Std            1217007 non-null  float64\n",
      " 49   Packet Length Variance       1217007 non-null  float64\n",
      " 50  FIN Flag Count                1217007 non-null  int64  \n",
      " 51   SYN Flag Count               1217007 non-null  int64  \n",
      " 52   RST Flag Count               1217007 non-null  int64  \n",
      " 53   PSH Flag Count               1217007 non-null  int64  \n",
      " 54   ACK Flag Count               1217007 non-null  int64  \n",
      " 55   URG Flag Count               1217007 non-null  int64  \n",
      " 56   CWE Flag Count               1217007 non-null  int64  \n",
      " 57   ECE Flag Count               1217007 non-null  int64  \n",
      " 58   Down/Up Ratio                1217007 non-null  float64\n",
      " 59   Average Packet Size          1217007 non-null  float64\n",
      " 60   Avg Fwd Segment Size         1217007 non-null  float64\n",
      " 61   Avg Bwd Segment Size         1217007 non-null  float64\n",
      " 62   Fwd Header Length.1          1217007 non-null  int64  \n",
      " 63  Fwd Avg Bytes/Bulk            1217007 non-null  int64  \n",
      " 64   Fwd Avg Packets/Bulk         1217007 non-null  int64  \n",
      " 65   Fwd Avg Bulk Rate            1217007 non-null  int64  \n",
      " 66   Bwd Avg Bytes/Bulk           1217007 non-null  int64  \n",
      " 67   Bwd Avg Packets/Bulk         1217007 non-null  int64  \n",
      " 68  Bwd Avg Bulk Rate             1217007 non-null  int64  \n",
      " 69  Subflow Fwd Packets           1217007 non-null  int64  \n",
      " 70   Subflow Fwd Bytes            1217007 non-null  int64  \n",
      " 71   Subflow Bwd Packets          1217007 non-null  int64  \n",
      " 72   Subflow Bwd Bytes            1217007 non-null  int64  \n",
      " 73  Init_Win_bytes_forward        1217007 non-null  int64  \n",
      " 74   Init_Win_bytes_backward      1217007 non-null  int64  \n",
      " 75   act_data_pkt_fwd             1217007 non-null  int64  \n",
      " 76   min_seg_size_forward         1217007 non-null  int64  \n",
      " 77  Active Mean                   1217007 non-null  float64\n",
      " 78   Active Std                   1217007 non-null  float64\n",
      " 79   Active Max                   1217007 non-null  float64\n",
      " 80   Active Min                   1217007 non-null  float64\n",
      " 81  Idle Mean                     1217007 non-null  float64\n",
      " 82   Idle Std                     1217007 non-null  float64\n",
      " 83   Idle Max                     1217007 non-null  float64\n",
      " 84   Idle Min                     1217007 non-null  float64\n",
      " 85  SimillarHTTP                  1217007 non-null  object \n",
      " 86   Inbound                      1217007 non-null  int64  \n",
      " 87   Label                        1217007 non-null  object \n",
      "dtypes: float64(45), int64(37), object(6)\n",
      "memory usage: 817.1+ MB\n"
     ]
    }
   ],
   "source": [
    "DM.info()"
   ]
  },
  {
   "cell_type": "code",
   "execution_count": 4,
   "id": "6dcbc54b-758f-4b1f-999c-71e61b807d47",
   "metadata": {},
   "outputs": [],
   "source": [
    "#Feature Selection\n",
    "X = DM.drop(['Unnamed: 0','Flow ID',' Source IP', ' Destination IP', ' Timestamp', 'SimillarHTTP', ' Label'],axis=1).values    #Droping this because classification model will not accept object type elements (float and int only)\n",
    "# Target variable\n",
    "y = DM[' Label'].values"
   ]
  },
  {
   "cell_type": "code",
   "execution_count": 6,
   "id": "41bd6d6c-c0ef-470b-9c61-cf4044411438",
   "metadata": {},
   "outputs": [],
   "source": [
    "# Replace inf and -inf with NaN\n",
    "X = np.where(np.isinf(X), np.nan, X)\n",
    "\n",
    "# Convert X to a DataFrame if it isn't one already, remove NaN rows, and keep the corresponding indices in y\n",
    "X = pd.DataFrame(X).dropna()\n",
    "y = y[X.index]"
   ]
  },
  {
   "cell_type": "code",
   "execution_count": 7,
   "id": "ba75d9b8-e9cf-428b-bee5-0f0eb118955d",
   "metadata": {},
   "outputs": [],
   "source": [
    "#Data Fitting and choosing the important variables\n",
    "extratrees = ek.ExtraTreesClassifier().fit(X,y)\n",
    "model = SelectFromModel(extratrees, prefit=True)\n",
    "X_new = model.transform(X)\n",
    "nbfeatures = X_new.shape[1]"
   ]
  },
  {
   "cell_type": "code",
   "execution_count": 8,
   "id": "1aa8ad04-c8ca-43d2-95fc-f272b05e0a4b",
   "metadata": {},
   "outputs": [],
   "source": [
    "features = []\n",
    "index = numpy.argsort(extratrees.feature_importances_)[::-1][:nbfeatures]"
   ]
  },
  {
   "cell_type": "code",
   "execution_count": 9,
   "id": "f6b2406f-e52d-412d-8796-a035eea7d0bf",
   "metadata": {
    "scrolled": true
   },
   "outputs": [
    {
     "name": "stdout",
     "output_type": "stream",
     "text": [
      "1. feature  Inbound (0.236389)\n",
      "2. feature  Source Port (0.198718)\n",
      "3. feature  Protocol (0.063360)\n",
      "4. feature  URG Flag Count (0.058104)\n",
      "5. feature  min_seg_size_forward (0.042549)\n",
      "6. feature  CWE Flag Count (0.032448)\n",
      "7. feature  Bwd Packet Length Min (0.024935)\n",
      "8. feature  Destination Port (0.021045)\n",
      "9. feature  Fwd Packet Length Max (0.021032)\n",
      "10. feature  Average Packet Size (0.019300)\n",
      "11. feature  Fwd Packet Length Mean (0.019093)\n",
      "12. feature  Packet Length Mean (0.017872)\n",
      "13. feature  ACK Flag Count (0.017546)\n",
      "14. feature  Down/Up Ratio (0.015850)\n",
      "15. feature  RST Flag Count (0.014286)\n",
      "16. feature  Avg Fwd Segment Size (0.014263)\n",
      "17. feature Init_Win_bytes_forward (0.014130)\n",
      "18. feature  Fwd Packet Length Min (0.012863)\n",
      "19. feature  Init_Win_bytes_backward (0.012590)\n"
     ]
    }
   ],
   "source": [
    "#All the required features\n",
    "X_columns = DM.drop(['Unnamed: 0','Flow ID',' Source IP', ' Destination IP', ' Timestamp', 'SimillarHTTP', ' Label'], axis=1).columns\n",
    "features = []\n",
    "for f in range(nbfeatures):\n",
    "    print(\"%d. feature %s (%f)\" % (f + 1, X_columns[index[f]], extratrees.feature_importances_[index[f]]))\n",
    "    features.append(X_columns[index[f]])"
   ]
  },
  {
   "cell_type": "code",
   "execution_count": 10,
   "id": "cbdd0877-c2ba-4c27-a531-0e69ba6823e9",
   "metadata": {},
   "outputs": [],
   "source": [
    "# Memilih 0.1% data dari setiap fitur/column\n",
    "sample_size = int(0.001 * len(DM))\n",
    "sampled_data = DM.groupby(' Label').apply(lambda x: x.iloc[:sample_size]).reset_index(drop=True)"
   ]
  },
  {
   "cell_type": "code",
   "execution_count": 11,
   "id": "ea493867-1977-4f6e-8e0b-416780bb2624",
   "metadata": {},
   "outputs": [
    {
     "name": "stderr",
     "output_type": "stream",
     "text": [
      "Progress: 100%|█████████████████████████████████████████████████████████████████████| 19/19 [1:18:06<00:00, 246.63s/it]IOPub data rate exceeded.\n",
      "The Jupyter server will temporarily stop sending output\n",
      "to the client in order to avoid crashing it.\n",
      "To change this limit, set the config variable\n",
      "`--ServerApp.iopub_data_rate_limit`.\n",
      "\n",
      "Current values:\n",
      "ServerApp.iopub_data_rate_limit=1000000.0 (bytes/sec)\n",
      "ServerApp.rate_limit_window=3.0 (secs)\n",
      "\n",
      "\n"
     ]
    }
   ],
   "source": [
    "# Mencoba mencari threshold terbaik pada fitur yang dipilih\n",
    "hasil_threshold = []\n",
    "\n",
    "def Thresholding(threshold, feature):\n",
    "    # Melakukan thresholding\n",
    "    BenignDataThreshold = sampled_data[sampled_data[feature] > int(threshold)]\n",
    "    MalwareDataThreshold = sampled_data[sampled_data[feature] <= int(threshold)]\n",
    "\n",
    "    # menentukan TP, TN, FP, FN\n",
    "    from sklearn.metrics import confusion_matrix\n",
    "\n",
    "    # Untuk BenignDataThreshold\n",
    "    y_true_benign = [\"BENIGN\"] * len(BenignDataThreshold)\n",
    "    y_pred_benign = BenignDataThreshold[\" Label\"]\n",
    "\n",
    "    # Untuk MalwareDataThreshold\n",
    "    y_true_malware = [\"DrDoS_NTP\"] * len(MalwareDataThreshold)\n",
    "    y_pred_malware = MalwareDataThreshold[\" Label\"]\n",
    "\n",
    "    # Menyatukan true labels dan predicted labels\n",
    "    y_true = y_true_benign + y_true_malware\n",
    "    y_pred = y_pred_benign.tolist() + y_pred_malware.tolist()\n",
    "\n",
    "    # Menghitung confusion matrix\n",
    "    tn, fp, fn, tp = confusion_matrix(y_true, y_pred).ravel()\n",
    "\n",
    "    # Menghitung Precision, Recall, F1-score, dan Accuracy\n",
    "    PrecisionThreshold = tp/(tp+fp) if (tp+fp) != 0 else 0\n",
    "    RecallThreshold = tp/(tp+fn) if (tp+fn) != 0 else 0\n",
    "    F1ScoreThreshold = 2 * ((PrecisionThreshold*RecallThreshold)/(PrecisionThreshold+RecallThreshold)) if (PrecisionThreshold+RecallThreshold) != 0 else 0\n",
    "    AccuracyThreshold = (tp+tn)/(tp+fp+tn+fn) if (tp+fp+tn+fn) != 0 else 0\n",
    "\n",
    "    matrix = [[feature, threshold], [PrecisionThreshold], [RecallThreshold], [F1ScoreThreshold], [AccuracyThreshold]]\n",
    "    hasil_threshold.append(matrix)\n",
    "\n",
    "for feature in tqdm(features, desc='Progress'):\n",
    "    Max = sampled_data[feature].max()\n",
    "    Min = sampled_data[feature].min()\n",
    "\n",
    "    for x in range(int(Min), int(Max + 1)):\n",
    "        Thresholding(x, feature)\n",
    "\n",
    "print(hasil_threshold)"
   ]
  },
  {
   "cell_type": "code",
   "execution_count": 12,
   "id": "67507889-1d5f-4213-aa70-6cb3a9ae1e4c",
   "metadata": {},
   "outputs": [
    {
     "name": "stdout",
     "output_type": "stream",
     "text": [
      "Dengan fitur  Source Port dan threshold 50239, menghasilkan akurasi 0.7637633525061627 yang menjadikan angka threshold tersebut adalah threshold terbaik yang dapat digunakan.\n"
     ]
    }
   ],
   "source": [
    "winner = [['', 0], [0], [0], [0], [0]]  # Format: [[feature, threshold], [precision], [recall], [f1-score], [accuracy]]\n",
    "\n",
    "for result in hasil_threshold:\n",
    "    if result[4][0] > winner[4][0]:\n",
    "        winner = result\n",
    "\n",
    "print(f\"Dengan fitur {winner[0][0]} dan threshold {winner[0][1]}, menghasilkan akurasi {winner[4][0]} yang menjadikan angka threshold tersebut adalah threshold terbaik yang dapat digunakan.\")\n"
   ]
  },
  {
   "cell_type": "code",
   "execution_count": 13,
   "id": "753fbf93-ca4b-4d47-9227-64636f0713d5",
   "metadata": {},
   "outputs": [
    {
     "data": {
      "image/png": "[encoded data removed]",
      "text/plain": [
       "<Figure size 1000x600 with 1 Axes>"
      ]
     },
     "metadata": {},
     "output_type": "display_data"
    }
   ],
   "source": [
    "# Mendapatkan fitur pemenang dan thresholdnya\n",
    "winner_feature, winner_threshold = winner[0]\n",
    "\n",
    "# Memfilter hasil threshold untuk fitur pemenang\n",
    "winner_results = [result for result in hasil_threshold if result[0][0] == winner_feature]\n",
    "\n",
    "# Pisahkan hasil menjadi list berdasarkan feature dan kolom\n",
    "thresholds, precision, recall, f1_score, accuracy = [], [], [], [], []\n",
    "for result in winner_results:\n",
    "    thresholds.append(result[0][1])\n",
    "    precision.append(result[1][0])\n",
    "    recall.append(result[2][0])\n",
    "    f1_score.append(result[3][0])\n",
    "    accuracy.append(result[4][0])\n",
    "\n",
    "# Plotting\n",
    "plt.figure(figsize=(10, 6))\n",
    "plt.plot(thresholds, accuracy, label='Accuracy')\n",
    "plt.plot(thresholds, precision, label='Precision')\n",
    "plt.plot(thresholds, recall, label='Recall')\n",
    "plt.plot(thresholds, f1_score, label='F1 Score')\n",
    "\n",
    "plt.title(f'Metrics vs. Threshold for Feature {winner_feature}')\n",
    "plt.xlabel('Threshold')\n",
    "plt.ylabel('Score')\n",
    "plt.legend()\n",
    "plt.grid(True)\n",
    "plt.show()\n"
   ]
  },
  {
   "cell_type": "code",
   "execution_count": null,
   "id": "0649f850-0fc7-47d8-85bb-84354dcdef70",
   "metadata": {},
   "outputs": [],
   "source": []
  }
 ],
 "metadata": {
  "kernelspec": {
   "display_name": "Python 3 (ipykernel)",
   "language": "python",
   "name": "python3"
  },
  "language_info": {
   "codemirror_mode": {
    "name": "ipython",
    "version": 3
   },
   "file_extension": ".py",
   "mimetype": "text/x-python",
   "name": "python",
   "nbconvert_exporter": "python",
   "pygments_lexer": "ipython3",
   "version": "3.11.2"
  }
 },
 "nbformat": 4,
 "nbformat_minor": 5
}
