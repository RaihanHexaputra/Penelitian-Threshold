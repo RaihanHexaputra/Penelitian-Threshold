{
 "cells": [
  {
   "cell_type": "code",
   "execution_count": 1,
   "id": "674d68be-dee1-4910-a28e-f08a102316c8",
   "metadata": {},
   "outputs": [],
   "source": [
    "# Library\n",
    "import pandas as pd\n",
    "import matplotlib.pyplot as plt\n",
    "import os\n",
    "import numpy\n",
    "import pickle\n",
    "import pefile\n",
    "import sklearn.ensemble as ek\n",
    "from sklearn.feature_selection import SelectFromModel\n",
    "import joblib\n",
    "from sklearn.metrics import confusion_matrix\n",
    "import sklearn.metrics as metrics\n",
    "from sklearn.neural_network import MLPClassifier\n",
    "from sklearn.linear_model import SGDClassifier\n",
    "from sklearn.model_selection import cross_val_score\n",
    "import numpy as np\n",
    "from tqdm import tqdm"
   ]
  },
  {
   "cell_type": "code",
   "execution_count": 2,
   "id": "103abc4c-1b2e-4ca0-82e5-0b66b34b6afa",
   "metadata": {},
   "outputs": [],
   "source": [
    "# Input Dataset \n",
    "\n",
    "DM = pd.read_csv(\"C:\\\\Data Raihan\\\\Penelitian Threshold\\\\Dataset\\\\CLaMP\\\\ClaMP_Integrated-5184.csv\") #DM--> Dataset Malware"
   ]
  },
  {
   "cell_type": "code",
   "execution_count": 3,
   "id": "11b14026-c76d-4c99-8f2a-723225d2df76",
   "metadata": {},
   "outputs": [
    {
     "name": "stdout",
     "output_type": "stream",
     "text": [
      "<class 'pandas.core.frame.DataFrame'>\n",
      "RangeIndex: 5210 entries, 0 to 5209\n",
      "Data columns (total 70 columns):\n",
      " #   Column                       Non-Null Count  Dtype  \n",
      "---  ------                       --------------  -----  \n",
      " 0   e_cblp                       5210 non-null   int64  \n",
      " 1   e_cp                         5210 non-null   int64  \n",
      " 2   e_cparhdr                    5210 non-null   int64  \n",
      " 3   e_maxalloc                   5210 non-null   int64  \n",
      " 4   e_sp                         5210 non-null   int64  \n",
      " 5   e_lfanew                     5210 non-null   int64  \n",
      " 6   NumberOfSections             5210 non-null   int64  \n",
      " 7   CreationYear                 5210 non-null   int64  \n",
      " 8   FH_char0                     5210 non-null   int64  \n",
      " 9   FH_char1                     5210 non-null   int64  \n",
      " 10  FH_char2                     5210 non-null   int64  \n",
      " 11  FH_char3                     5210 non-null   int64  \n",
      " 12  FH_char4                     5210 non-null   int64  \n",
      " 13  FH_char5                     5210 non-null   int64  \n",
      " 14  FH_char6                     5210 non-null   int64  \n",
      " 15  FH_char7                     5210 non-null   int64  \n",
      " 16  FH_char8                     5210 non-null   int64  \n",
      " 17  FH_char9                     5210 non-null   int64  \n",
      " 18  FH_char10                    5210 non-null   int64  \n",
      " 19  FH_char11                    5210 non-null   int64  \n",
      " 20  FH_char12                    5210 non-null   int64  \n",
      " 21  FH_char13                    5210 non-null   int64  \n",
      " 22  FH_char14                    5210 non-null   int64  \n",
      " 23  MajorLinkerVersion           5210 non-null   int64  \n",
      " 24  MinorLinkerVersion           5210 non-null   int64  \n",
      " 25  SizeOfCode                   5210 non-null   int64  \n",
      " 26  SizeOfInitializedData        5210 non-null   int64  \n",
      " 27  SizeOfUninitializedData      5210 non-null   int64  \n",
      " 28  AddressOfEntryPoint          5210 non-null   int64  \n",
      " 29  BaseOfCode                   5210 non-null   int64  \n",
      " 30  BaseOfData                   5210 non-null   int64  \n",
      " 31  ImageBase                    5210 non-null   int64  \n",
      " 32  SectionAlignment             5210 non-null   int64  \n",
      " 33  FileAlignment                5210 non-null   int64  \n",
      " 34  MajorOperatingSystemVersion  5210 non-null   int64  \n",
      " 35  MinorOperatingSystemVersion  5210 non-null   int64  \n",
      " 36  MajorImageVersion            5210 non-null   int64  \n",
      " 37  MinorImageVersion            5210 non-null   int64  \n",
      " 38  MajorSubsystemVersion        5210 non-null   int64  \n",
      " 39  MinorSubsystemVersion        5210 non-null   int64  \n",
      " 40  SizeOfImage                  5210 non-null   int64  \n",
      " 41  SizeOfHeaders                5210 non-null   int64  \n",
      " 42  CheckSum                     5210 non-null   int64  \n",
      " 43  Subsystem                    5210 non-null   int64  \n",
      " 44  OH_DLLchar0                  5210 non-null   int64  \n",
      " 45  OH_DLLchar1                  5210 non-null   int64  \n",
      " 46  OH_DLLchar2                  5210 non-null   int64  \n",
      " 47  OH_DLLchar3                  5210 non-null   int64  \n",
      " 48  OH_DLLchar4                  5210 non-null   int64  \n",
      " 49  OH_DLLchar5                  5210 non-null   int64  \n",
      " 50  OH_DLLchar6                  5210 non-null   int64  \n",
      " 51  OH_DLLchar7                  5210 non-null   int64  \n",
      " 52  OH_DLLchar8                  5210 non-null   int64  \n",
      " 53  OH_DLLchar9                  5210 non-null   int64  \n",
      " 54  OH_DLLchar10                 5210 non-null   int64  \n",
      " 55  SizeOfStackReserve           5210 non-null   int64  \n",
      " 56  SizeOfStackCommit            5210 non-null   int64  \n",
      " 57  SizeOfHeapReserve            5210 non-null   int64  \n",
      " 58  SizeOfHeapCommit             5210 non-null   int64  \n",
      " 59  LoaderFlags                  5210 non-null   int64  \n",
      " 60  sus_sections                 5210 non-null   int64  \n",
      " 61  non_sus_sections             5210 non-null   int64  \n",
      " 62  packer                       5210 non-null   int64  \n",
      " 63  packer_type                  5210 non-null   object \n",
      " 64  E_text                       5210 non-null   float64\n",
      " 65  E_data                       5210 non-null   float64\n",
      " 66  filesize                     5210 non-null   int64  \n",
      " 67  E_file                       5210 non-null   float64\n",
      " 68  fileinfo                     5210 non-null   int64  \n",
      " 69  class                        5210 non-null   int64  \n",
      "dtypes: float64(3), int64(66), object(1)\n",
      "memory usage: 2.8+ MB\n"
     ]
    }
   ],
   "source": [
    "DM.info()"
   ]
  },
  {
   "cell_type": "code",
   "execution_count": 4,
   "id": "6dcbc54b-758f-4b1f-999c-71e61b807d47",
   "metadata": {},
   "outputs": [],
   "source": [
    "#Feature Selection\n",
    "X = DM.drop(['packer_type','class'],axis=1).values    #Droping this because classification model will not accept object type elements (float and int only)\n",
    "# Target variable\n",
    "y = DM['class'].values"
   ]
  },
  {
   "cell_type": "code",
   "execution_count": 5,
   "id": "41bd6d6c-c0ef-470b-9c61-cf4044411438",
   "metadata": {},
   "outputs": [],
   "source": [
    "#Remove Nan\n",
    "X = pd.DataFrame(X).dropna()\n",
    "y = y[X.index]"
   ]
  },
  {
   "cell_type": "code",
   "execution_count": 6,
   "id": "ba75d9b8-e9cf-428b-bee5-0f0eb118955d",
   "metadata": {},
   "outputs": [],
   "source": [
    "#Data Fitting and choosing the important variables\n",
    "extratrees = ek.ExtraTreesClassifier().fit(X,y)\n",
    "model = SelectFromModel(extratrees, prefit=True)\n",
    "X_new = model.transform(X)\n",
    "nbfeatures = X_new.shape[1]"
   ]
  },
  {
   "cell_type": "code",
   "execution_count": 7,
   "id": "1aa8ad04-c8ca-43d2-95fc-f272b05e0a4b",
   "metadata": {},
   "outputs": [],
   "source": [
    "features = []\n",
    "index = numpy.argsort(extratrees.feature_importances_)[::-1][:nbfeatures]"
   ]
  },
  {
   "cell_type": "code",
   "execution_count": 8,
   "id": "f6b2406f-e52d-412d-8796-a035eea7d0bf",
   "metadata": {
    "scrolled": true
   },
   "outputs": [
    {
     "name": "stdout",
     "output_type": "stream",
     "text": [
      "1. feature FH_char14 (0.219096)\n",
      "2. feature OH_DLLchar4 (0.104160)\n",
      "3. feature class (0.085404)\n",
      "4. feature OH_DLLchar2 (0.069256)\n",
      "5. feature FH_char2 (0.061797)\n",
      "6. feature OH_DLLchar1 (0.028992)\n",
      "7. feature OH_DLLchar9 (0.027930)\n",
      "8. feature fileinfo (0.026414)\n",
      "9. feature filesize (0.025741)\n",
      "10. feature OH_DLLchar6 (0.021753)\n",
      "11. feature FH_char5 (0.020758)\n",
      "12. feature FileAlignment (0.019258)\n",
      "13. feature E_file (0.019254)\n",
      "14. feature E_data (0.017163)\n",
      "15. feature SizeOfImage (0.015553)\n",
      "16. feature FH_char4 (0.015172)\n"
     ]
    }
   ],
   "source": [
    "#All the required features\n",
    "for f in range(nbfeatures):\n",
    "    print(\"%d. feature %s (%f)\" % (f + 1, DM.columns[2+index[f]], extratrees.feature_importances_[index[f]]))\n",
    "    features.append(DM.columns[2+f])"
   ]
  },
  {
   "cell_type": "code",
   "execution_count": 9,
   "id": "cbdd0877-c2ba-4c27-a531-0e69ba6823e9",
   "metadata": {},
   "outputs": [],
   "source": [
    "# Memilih 10% data secara acak dari setiap fitur/column\n",
    "sampled_data = DM.groupby('class').apply(lambda x: x.sample(frac=1)).reset_index(drop=True)"
   ]
  },
  {
   "cell_type": "code",
   "execution_count": 10,
   "id": "ea493867-1977-4f6e-8e0b-416780bb2624",
   "metadata": {},
   "outputs": [
    {
     "name": "stderr",
     "output_type": "stream",
     "text": [
      "Progress: 100%|████████████████████████████████████████████████████████████████████████| 16/16 [09:56<00:00, 37.29s/it]\n",
      "IOPub data rate exceeded.\n",
      "The Jupyter server will temporarily stop sending output\n",
      "to the client in order to avoid crashing it.\n",
      "To change this limit, set the config variable\n",
      "`--ServerApp.iopub_data_rate_limit`.\n",
      "\n",
      "Current values:\n",
      "ServerApp.iopub_data_rate_limit=1000000.0 (bytes/sec)\n",
      "ServerApp.rate_limit_window=3.0 (secs)\n",
      "\n"
     ]
    }
   ],
   "source": [
    "# Mencoba mencari threshold terbaik pada fitur yang dipilih\n",
    "hasil_threshold = []\n",
    "\n",
    "def Thresholding(threshold, feature):\n",
    "    # Melakukan thresholding\n",
    "    BenignDataThreshold = sampled_data[sampled_data[feature] > int(threshold)]\n",
    "    MalwareDataThreshold = sampled_data[sampled_data[feature] <= int(threshold)]\n",
    "\n",
    "    # menentukan TP, TN, FP, FN\n",
    "    from sklearn.metrics import confusion_matrix\n",
    "\n",
    "    # Untuk BenignDataThreshold\n",
    "    y_true_benign = [0] * len(BenignDataThreshold)  # Label 0 untuk benign\n",
    "    y_pred_benign = BenignDataThreshold[\"class\"].astype(int)\n",
    "\n",
    "    # Untuk MalwareDataThreshold\n",
    "    y_true_malware = [1] * len(MalwareDataThreshold)  # Label 1 untuk malware\n",
    "    y_pred_malware = MalwareDataThreshold[\"class\"].astype(int) \n",
    "\n",
    "    # Menyatukan true labels dan predicted labels\n",
    "    y_true = y_true_benign + y_true_malware\n",
    "    y_pred = y_pred_benign.tolist() + y_pred_malware.tolist()\n",
    "\n",
    "    # Menghitung confusion matrix\n",
    "    tn, fp, fn, tp = confusion_matrix(y_true, y_pred).ravel()\n",
    "\n",
    "    # Menghitung Precision, Recall, F1-score, dan Accuracy\n",
    "    PrecisionThreshold = tp/(tp+fp) if (tp+fp) != 0 else 0\n",
    "    RecallThreshold = tp/(tp+fn) if (tp+fn) != 0 else 0\n",
    "    F1ScoreThreshold = 2 * ((PrecisionThreshold*RecallThreshold)/(PrecisionThreshold+RecallThreshold)) if (PrecisionThreshold+RecallThreshold) != 0 else 0\n",
    "    AccuracyThreshold = (tp+tn)/(tp+fp+tn+fn) if (tp+fp+tn+fn) != 0 else 0\n",
    "\n",
    "    matrix = [[feature, threshold], [PrecisionThreshold], [RecallThreshold], [F1ScoreThreshold], [AccuracyThreshold]]\n",
    "    hasil_threshold.append(matrix)\n",
    "\n",
    "for feature in tqdm(features, desc='Progress'):\n",
    "    Max = sampled_data[feature].max()\n",
    "    Min = sampled_data[feature].min()\n",
    "\n",
    "    for x in range(int(Min), int(Max + 1)):\n",
    "        Thresholding(x, feature)\n",
    "\n",
    "print(hasil_threshold)"
   ]
  },
  {
   "cell_type": "code",
   "execution_count": 11,
   "id": "67507889-1d5f-4213-aa70-6cb3a9ae1e4c",
   "metadata": {},
   "outputs": [
    {
     "name": "stdout",
     "output_type": "stream",
     "text": [
      "Dengan fitur e_lfanew dan threshold 256, menghasilkan akurasi 0.5833013435700576 yang menjadikan angka threshold tersebut adalah threshold terbaik yang dapat digunakan.\n"
     ]
    }
   ],
   "source": [
    "winner = [['', 0], [0], [0], [0], [0]]  # Format: [[feature, threshold], [precision], [recall], [f1-score], [accuracy]]\n",
    "\n",
    "for result in hasil_threshold:\n",
    "    if result[4][0] > winner[4][0]:\n",
    "        winner = result\n",
    "\n",
    "print(f\"Dengan fitur {winner[0][0]} dan threshold {winner[0][1]}, menghasilkan akurasi {winner[4][0]} yang menjadikan angka threshold tersebut adalah threshold terbaik yang dapat digunakan.\")\n"
   ]
  },
  {
   "cell_type": "code",
   "execution_count": 12,
   "id": "753fbf93-ca4b-4d47-9227-64636f0713d5",
   "metadata": {},
   "outputs": [
    {
     "data": {
      "image/png": "[encoded data removed]",
      "text/plain": [
       "<Figure size 1000x600 with 1 Axes>"
      ]
     },
     "metadata": {},
     "output_type": "display_data"
    }
   ],
   "source": [
    "# Mendapatkan fitur pemenang dan thresholdnya\n",
    "winner_feature, winner_threshold = winner[0]\n",
    "\n",
    "# Memfilter hasil threshold untuk fitur pemenang\n",
    "winner_results = [result for result in hasil_threshold if result[0][0] == winner_feature]\n",
    "\n",
    "# Pisahkan hasil menjadi list berdasarkan feature dan kolom\n",
    "thresholds, precision, recall, f1_score, accuracy = [], [], [], [], []\n",
    "for result in winner_results:\n",
    "    thresholds.append(result[0][1])\n",
    "    precision.append(result[1][0])\n",
    "    recall.append(result[2][0])\n",
    "    f1_score.append(result[3][0])\n",
    "    accuracy.append(result[4][0])\n",
    "\n",
    "# Plotting\n",
    "plt.figure(figsize=(10, 6))\n",
    "plt.plot(thresholds, accuracy, label='Accuracy')\n",
    "plt.plot(thresholds, precision, label='Precision')\n",
    "plt.plot(thresholds, recall, label='Recall')\n",
    "plt.plot(thresholds, f1_score, label='F1 Score')\n",
    "\n",
    "plt.title(f'Metrics vs. Threshold for Feature {winner_feature}')\n",
    "plt.xlabel('Threshold')\n",
    "plt.ylabel('Score')\n",
    "plt.legend()\n",
    "plt.grid(True)\n",
    "plt.show()\n"
   ]
  },
  {
   "cell_type": "code",
   "execution_count": null,
   "id": "0649f850-0fc7-47d8-85bb-84354dcdef70",
   "metadata": {},
   "outputs": [],
   "source": []
  }
 ],
 "metadata": {
  "kernelspec": {
   "display_name": "Python 3 (ipykernel)",
   "language": "python",
   "name": "python3"
  },
  "language_info": {
   "codemirror_mode": {
    "name": "ipython",
    "version": 3
   },
   "file_extension": ".py",
   "mimetype": "text/x-python",
   "name": "python",
   "nbconvert_exporter": "python",
   "pygments_lexer": "ipython3",
   "version": "3.11.2"
  }
 },
 "nbformat": 4,
 "nbformat_minor": 5
}
